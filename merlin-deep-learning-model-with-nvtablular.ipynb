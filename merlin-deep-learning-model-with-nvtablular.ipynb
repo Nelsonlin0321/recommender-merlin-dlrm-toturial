{
 "cells": [
  {
   "cell_type": "markdown",
   "metadata": {},
   "source": [
    "Reference notebook: https://github.com/NVIDIA-Merlin/NVTabular/blob/main/examples/01-Getting-started.ipynb"
   ]
  },
  {
   "cell_type": "markdown",
   "metadata": {},
   "source": [
    "## (1) Download the dataset"
   ]
  },
  {
   "cell_type": "code",
   "execution_count": 1,
   "metadata": {},
   "outputs": [
    {
     "data": {
      "text/plain": [
       "True"
      ]
     },
     "execution_count": 1,
     "metadata": {},
     "output_type": "execute_result"
    }
   ],
   "source": [
    "import os\n",
    "import dotenv\n",
    "dotenv.load_dotenv(\".env\")"
   ]
  },
  {
   "cell_type": "code",
   "execution_count": 2,
   "metadata": {},
   "outputs": [],
   "source": [
    "from merlin.datasets.entertainment import get_movielens"
   ]
  },
  {
   "cell_type": "code",
   "execution_count": null,
   "metadata": {},
   "outputs": [],
   "source": [
    "input_path = os.environ.get(\"INPUT_DATA_DIR\", os.path.expanduser(\"~/merlin-framework/movielens/\"))\n",
    "get_movielens(variant=\"ml-1m\", path=input_path);"
   ]
  },
  {
   "cell_type": "code",
   "execution_count": 4,
   "metadata": {},
   "outputs": [
    {
     "name": "stdout",
     "output_type": "stream",
     "text": [
      "README                    ratings.dat               users.dat\n",
      "movies.dat                train.parquet             users_converted.parquet\n",
      "movies_converted.parquet  \u001b[34mtransformed\u001b[m\u001b[m/              valid.parquet\n"
     ]
    }
   ],
   "source": [
    "ls {input_path}/ml-1m #noqa"
   ]
  },
  {
   "cell_type": "code",
   "execution_count": 5,
   "metadata": {},
   "outputs": [],
   "source": [
    "from merlin.core.dispatch import get_lib\n",
    "\n",
    "train = get_lib().read_parquet(f'{input_path}/ml-1m/train.parquet')\n",
    "valid = get_lib().read_parquet(f'{input_path}/ml-1m/valid.parquet')"
   ]
  },
  {
   "cell_type": "code",
   "execution_count": 6,
   "metadata": {},
   "outputs": [
    {
     "data": {
      "text/html": [
       "<div>\n",
       "<style scoped>\n",
       "    .dataframe tbody tr th:only-of-type {\n",
       "        vertical-align: middle;\n",
       "    }\n",
       "\n",
       "    .dataframe tbody tr th {\n",
       "        vertical-align: top;\n",
       "    }\n",
       "\n",
       "    .dataframe thead th {\n",
       "        text-align: right;\n",
       "    }\n",
       "</style>\n",
       "<table border=\"1\" class=\"dataframe\">\n",
       "  <thead>\n",
       "    <tr style=\"text-align: right;\">\n",
       "      <th></th>\n",
       "      <th>userId</th>\n",
       "      <th>movieId</th>\n",
       "      <th>rating</th>\n",
       "      <th>timestamp</th>\n",
       "    </tr>\n",
       "  </thead>\n",
       "  <tbody>\n",
       "    <tr>\n",
       "      <th>271838</th>\n",
       "      <td>1643</td>\n",
       "      <td>2729</td>\n",
       "      <td>4</td>\n",
       "      <td>995610410</td>\n",
       "    </tr>\n",
       "    <tr>\n",
       "      <th>348252</th>\n",
       "      <td>2041</td>\n",
       "      <td>52</td>\n",
       "      <td>4</td>\n",
       "      <td>1004131663</td>\n",
       "    </tr>\n",
       "    <tr>\n",
       "      <th>445769</th>\n",
       "      <td>2749</td>\n",
       "      <td>1272</td>\n",
       "      <td>5</td>\n",
       "      <td>983468699</td>\n",
       "    </tr>\n",
       "    <tr>\n",
       "      <th>482072</th>\n",
       "      <td>2962</td>\n",
       "      <td>2940</td>\n",
       "      <td>5</td>\n",
       "      <td>977246612</td>\n",
       "    </tr>\n",
       "    <tr>\n",
       "      <th>302813</th>\n",
       "      <td>1798</td>\n",
       "      <td>1035</td>\n",
       "      <td>4</td>\n",
       "      <td>974756919</td>\n",
       "    </tr>\n",
       "  </tbody>\n",
       "</table>\n",
       "</div>"
      ],
      "text/plain": [
       "        userId  movieId  rating   timestamp\n",
       "271838    1643     2729       4   995610410\n",
       "348252    2041       52       4  1004131663\n",
       "445769    2749     1272       5   983468699\n",
       "482072    2962     2940       5   977246612\n",
       "302813    1798     1035       4   974756919"
      ]
     },
     "execution_count": 6,
     "metadata": {},
     "output_type": "execute_result"
    }
   ],
   "source": [
    "train.head()"
   ]
  },
  {
   "cell_type": "markdown",
   "metadata": {},
   "source": [
    "## (2) Processing the dataset with NVTabular"
   ]
  },
  {
   "cell_type": "code",
   "execution_count": 7,
   "metadata": {},
   "outputs": [
    {
     "name": "stderr",
     "output_type": "stream",
     "text": [
      "/Users/nelsonlin/miniforge3/envs/tensorflow/lib/python3.8/site-packages/merlin/io/dataset.py:251: UserWarning: Initializing an NVTabular Dataset in CPU mode.This is an experimental feature with extremely limited support!\n",
      "  warnings.warn(\n"
     ]
    },
    {
     "data": {
      "text/plain": [
       "(<merlin.io.dataset.Dataset at 0x2a9e3b5b0>,\n",
       " <merlin.io.dataset.Dataset at 0x2af54c910>)"
      ]
     },
     "execution_count": 7,
     "metadata": {},
     "output_type": "execute_result"
    }
   ],
   "source": [
    "import nvtabular as nvt\n",
    "from merlin.schema.tags import Tags\n",
    "\n",
    "train_ds = nvt.Dataset(train)\n",
    "valid_ds = nvt.Dataset(valid)\n",
    "\n",
    "train_ds, valid_ds"
   ]
  },
  {
   "cell_type": "code",
   "execution_count": 8,
   "metadata": {},
   "outputs": [],
   "source": [
    "\"\"\"categorify to make sure they are continuous integers,\"\"\"\n",
    "output = ['userId', 'movieId'] >> nvt.ops.Categorify()"
   ]
  },
  {
   "cell_type": "code",
   "execution_count": 9,
   "metadata": {},
   "outputs": [
    {
     "data": {
      "image/svg+xml": "<?xml version=\"1.0\" encoding=\"UTF-8\" standalone=\"no\"?>\n<!DOCTYPE svg PUBLIC \"-//W3C//DTD SVG 1.1//EN\"\n \"http://www.w3.org/Graphics/SVG/1.1/DTD/svg11.dtd\">\n<!-- Generated by graphviz version 7.0.4 (20221203.1631)\n -->\n<!-- Pages: 1 -->\n<svg width=\"167pt\" height=\"260pt\"\n viewBox=\"0.00 0.00 166.59 260.00\" xmlns=\"http://www.w3.org/2000/svg\" xmlns:xlink=\"http://www.w3.org/1999/xlink\">\n<g id=\"graph0\" class=\"graph\" transform=\"scale(1 1) rotate(0) translate(4 256)\">\n<polygon fill=\"white\" stroke=\"none\" points=\"-4,4 -4,-256 162.59,-256 162.59,4 -4,4\"/>\n<!-- 0 -->\n<g id=\"node1\" class=\"node\">\n<title>0</title>\n<ellipse fill=\"none\" stroke=\"black\" cx=\"79.29\" cy=\"-162\" rx=\"53.89\" ry=\"18\"/>\n<text text-anchor=\"middle\" x=\"79.29\" y=\"-158.3\" font-family=\"Times,serif\" font-size=\"14.00\">SelectionOp</text>\n</g>\n<!-- 1 -->\n<g id=\"node3\" class=\"node\">\n<title>1</title>\n<ellipse fill=\"none\" stroke=\"black\" cx=\"79.29\" cy=\"-90\" rx=\"48.19\" ry=\"18\"/>\n<text text-anchor=\"middle\" x=\"79.29\" y=\"-86.3\" font-family=\"Times,serif\" font-size=\"14.00\">Categorify</text>\n</g>\n<!-- 0&#45;&gt;1 -->\n<g id=\"edge2\" class=\"edge\">\n<title>0&#45;&gt;1</title>\n<path fill=\"none\" stroke=\"black\" d=\"M79.29,-143.7C79.29,-136.41 79.29,-127.73 79.29,-119.54\"/>\n<polygon fill=\"black\" stroke=\"black\" points=\"82.79,-119.62 79.29,-109.62 75.79,-119.62 82.79,-119.62\"/>\n</g>\n<!-- 0_selector -->\n<g id=\"node2\" class=\"node\">\n<title>0_selector</title>\n<ellipse fill=\"none\" stroke=\"black\" cx=\"79.29\" cy=\"-234\" rx=\"79.09\" ry=\"18\"/>\n<text text-anchor=\"middle\" x=\"79.29\" y=\"-230.3\" font-family=\"Times,serif\" font-size=\"14.00\">[&#39;userId&#39;, &#39;movieId&#39;]</text>\n</g>\n<!-- 0_selector&#45;&gt;0 -->\n<g id=\"edge1\" class=\"edge\">\n<title>0_selector&#45;&gt;0</title>\n<path fill=\"none\" stroke=\"black\" d=\"M79.29,-215.7C79.29,-208.41 79.29,-199.73 79.29,-191.54\"/>\n<polygon fill=\"black\" stroke=\"black\" points=\"82.79,-191.62 79.29,-181.62 75.79,-191.62 82.79,-191.62\"/>\n</g>\n<!-- 2 -->\n<g id=\"node4\" class=\"node\">\n<title>2</title>\n<ellipse fill=\"none\" stroke=\"black\" cx=\"79.29\" cy=\"-18\" rx=\"50.09\" ry=\"18\"/>\n<text text-anchor=\"middle\" x=\"79.29\" y=\"-14.3\" font-family=\"Times,serif\" font-size=\"14.00\">output cols</text>\n</g>\n<!-- 1&#45;&gt;2 -->\n<g id=\"edge3\" class=\"edge\">\n<title>1&#45;&gt;2</title>\n<path fill=\"none\" stroke=\"black\" d=\"M79.29,-71.7C79.29,-64.41 79.29,-55.73 79.29,-47.54\"/>\n<polygon fill=\"black\" stroke=\"black\" points=\"82.79,-47.62 79.29,-37.62 75.79,-47.62 82.79,-47.62\"/>\n</g>\n</g>\n</svg>\n",
      "text/plain": [
       "<graphviz.graphs.Digraph at 0x2a9e3b280>"
      ]
     },
     "execution_count": 9,
     "metadata": {},
     "output_type": "execute_result"
    }
   ],
   "source": [
    "output.graph\n"
   ]
  },
  {
   "cell_type": "markdown",
   "metadata": {},
   "source": [
    "\n",
    "\n",
    "Let us also add our target to the set of returned columns.\n",
    "\n",
    "Additionally, we tag the rating column with appropriate tags. This will allow other components of the Merlin Framework to use this information and minimize the code we will have to write to perform complex operations such as training or serving a Deep Learning model.\n",
    "\n",
    "If you would like to learn more about using Tags, take a look at the NVTabular\n",
    "and Merlin Models integrated example notebook in the Merlin Models repository.\n",
    "https://nvidia-merlin.github.io/models/main/examples/02-Merlin-Models-and-NVTabular-integration.html\n"
   ]
  },
  {
   "cell_type": "code",
   "execution_count": 10,
   "metadata": {},
   "outputs": [],
   "source": [
    "\"\"\"add tag to rating column\"\"\"\n",
    "output += ['rating'] >> nvt.ops.AddMetadata(tags=[Tags.REGRESSION, Tags.TARGET])"
   ]
  },
  {
   "cell_type": "code",
   "execution_count": 11,
   "metadata": {},
   "outputs": [],
   "source": [
    "workflow = nvt.Workflow(output)"
   ]
  },
  {
   "cell_type": "markdown",
   "metadata": {},
   "source": [
    "### Applying the workflow to the train and validation sets"
   ]
  },
  {
   "cell_type": "code",
   "execution_count": 12,
   "metadata": {},
   "outputs": [
    {
     "name": "stderr",
     "output_type": "stream",
     "text": [
      "/Users/nelsonlin/miniforge3/envs/tensorflow/lib/python3.8/site-packages/merlin/io/dataset.py:251: UserWarning: Initializing an NVTabular Dataset in CPU mode.This is an experimental feature with extremely limited support!\n",
      "  warnings.warn(\n"
     ]
    }
   ],
   "source": [
    "workflow.fit_transform(train_ds).to_parquet('train')\n",
    "workflow.transform(valid_ds).to_parquet('valid')"
   ]
  },
  {
   "cell_type": "code",
   "execution_count": 13,
   "metadata": {},
   "outputs": [],
   "source": [
    "train_transformed = nvt.Dataset('train', engine='parquet')\n",
    "valid_transformed = nvt.Dataset('valid', engine='parquet')"
   ]
  },
  {
   "cell_type": "code",
   "execution_count": 14,
   "metadata": {},
   "outputs": [
    {
     "data": {
      "text/html": [
       "<div>\n",
       "<style scoped>\n",
       "    .dataframe tbody tr th:only-of-type {\n",
       "        vertical-align: middle;\n",
       "    }\n",
       "\n",
       "    .dataframe tbody tr th {\n",
       "        vertical-align: top;\n",
       "    }\n",
       "\n",
       "    .dataframe thead th {\n",
       "        text-align: right;\n",
       "    }\n",
       "</style>\n",
       "<table border=\"1\" class=\"dataframe\">\n",
       "  <thead>\n",
       "    <tr style=\"text-align: right;\">\n",
       "      <th></th>\n",
       "      <th>userId</th>\n",
       "      <th>movieId</th>\n",
       "      <th>rating</th>\n",
       "    </tr>\n",
       "  </thead>\n",
       "  <tbody>\n",
       "    <tr>\n",
       "      <th>0</th>\n",
       "      <td>1245</td>\n",
       "      <td>1442</td>\n",
       "      <td>4</td>\n",
       "    </tr>\n",
       "    <tr>\n",
       "      <th>1</th>\n",
       "      <td>276</td>\n",
       "      <td>769</td>\n",
       "      <td>4</td>\n",
       "    </tr>\n",
       "    <tr>\n",
       "      <th>2</th>\n",
       "      <td>3156</td>\n",
       "      <td>462</td>\n",
       "      <td>5</td>\n",
       "    </tr>\n",
       "    <tr>\n",
       "      <th>3</th>\n",
       "      <td>230</td>\n",
       "      <td>1955</td>\n",
       "      <td>5</td>\n",
       "    </tr>\n",
       "    <tr>\n",
       "      <th>4</th>\n",
       "      <td>3729</td>\n",
       "      <td>259</td>\n",
       "      <td>4</td>\n",
       "    </tr>\n",
       "  </tbody>\n",
       "</table>\n",
       "</div>"
      ],
      "text/plain": [
       "   userId  movieId  rating\n",
       "0    1245     1442       4\n",
       "1     276      769       4\n",
       "2    3156      462       5\n",
       "3     230     1955       5\n",
       "4    3729      259       4"
      ]
     },
     "execution_count": 14,
     "metadata": {},
     "output_type": "execute_result"
    }
   ],
   "source": [
    "train_transformed.head()"
   ]
  },
  {
   "cell_type": "markdown",
   "metadata": {},
   "source": [
    "### (3) Modeling"
   ]
  },
  {
   "cell_type": "code",
   "execution_count": 15,
   "metadata": {},
   "outputs": [
    {
     "name": "stderr",
     "output_type": "stream",
     "text": [
      "WARNING:tensorflow:Please fix your imports. Module tensorflow.python.training.tracking.data_structures has been moved to tensorflow.python.trackable.data_structures. The old module will be deleted in version 2.11.\n",
      "2022-12-17 22:06:29.369080: I tensorflow/core/common_runtime/pluggable_device/pluggable_device_factory.cc:306] Could not identify NUMA node of platform GPU ID 0, defaulting to 0. Your kernel may not have been built with NUMA support.\n",
      "2022-12-17 22:06:29.369777: I tensorflow/core/common_runtime/pluggable_device/pluggable_device_factory.cc:272] Created TensorFlow device (/job:localhost/replica:0/task:0/device:GPU:0 with 0 MB memory) -> physical PluggableDevice (device: 0, name: METAL, pci bus id: <undefined>)\n"
     ]
    },
    {
     "name": "stdout",
     "output_type": "stream",
     "text": [
      "Metal device set to: Apple M1\n",
      "\n",
      "systemMemory: 16.00 GB\n",
      "maxCacheSize: 5.33 GB\n",
      "\n"
     ]
    }
   ],
   "source": [
    "import tensorflow\n",
    "import merlin.models.tf as mm"
   ]
  },
  {
   "cell_type": "code",
   "execution_count": 16,
   "metadata": {},
   "outputs": [
    {
     "data": {
      "text/html": [
       "<div>\n",
       "<style scoped>\n",
       "    .dataframe tbody tr th:only-of-type {\n",
       "        vertical-align: middle;\n",
       "    }\n",
       "\n",
       "    .dataframe tbody tr th {\n",
       "        vertical-align: top;\n",
       "    }\n",
       "\n",
       "    .dataframe thead th {\n",
       "        text-align: right;\n",
       "    }\n",
       "</style>\n",
       "<table border=\"1\" class=\"dataframe\">\n",
       "  <thead>\n",
       "    <tr style=\"text-align: right;\">\n",
       "      <th></th>\n",
       "      <th>name</th>\n",
       "      <th>tags</th>\n",
       "      <th>dtype</th>\n",
       "      <th>is_list</th>\n",
       "      <th>is_ragged</th>\n",
       "      <th>properties.num_buckets</th>\n",
       "      <th>properties.embedding_sizes.cardinality</th>\n",
       "      <th>properties.embedding_sizes.dimension</th>\n",
       "      <th>properties.freq_threshold</th>\n",
       "      <th>properties.start_index</th>\n",
       "      <th>properties.max_size</th>\n",
       "      <th>properties.cat_path</th>\n",
       "      <th>properties.domain.min</th>\n",
       "      <th>properties.domain.max</th>\n",
       "      <th>properties.domain.name</th>\n",
       "    </tr>\n",
       "  </thead>\n",
       "  <tbody>\n",
       "    <tr>\n",
       "      <th>0</th>\n",
       "      <td>userId</td>\n",
       "      <td>(Tags.CATEGORICAL)</td>\n",
       "      <td>int64</td>\n",
       "      <td>False</td>\n",
       "      <td>False</td>\n",
       "      <td>NaN</td>\n",
       "      <td>6041.0</td>\n",
       "      <td>210.0</td>\n",
       "      <td>0.0</td>\n",
       "      <td>0.0</td>\n",
       "      <td>0.0</td>\n",
       "      <td>.//categories/unique.userId.parquet</td>\n",
       "      <td>0.0</td>\n",
       "      <td>6040.0</td>\n",
       "      <td>userId</td>\n",
       "    </tr>\n",
       "    <tr>\n",
       "      <th>1</th>\n",
       "      <td>movieId</td>\n",
       "      <td>(Tags.CATEGORICAL)</td>\n",
       "      <td>int64</td>\n",
       "      <td>False</td>\n",
       "      <td>False</td>\n",
       "      <td>NaN</td>\n",
       "      <td>3672.0</td>\n",
       "      <td>159.0</td>\n",
       "      <td>0.0</td>\n",
       "      <td>0.0</td>\n",
       "      <td>0.0</td>\n",
       "      <td>.//categories/unique.movieId.parquet</td>\n",
       "      <td>0.0</td>\n",
       "      <td>3671.0</td>\n",
       "      <td>movieId</td>\n",
       "    </tr>\n",
       "    <tr>\n",
       "      <th>2</th>\n",
       "      <td>rating</td>\n",
       "      <td>(Tags.TARGET, Tags.REGRESSION)</td>\n",
       "      <td>int64</td>\n",
       "      <td>False</td>\n",
       "      <td>False</td>\n",
       "      <td>NaN</td>\n",
       "      <td>NaN</td>\n",
       "      <td>NaN</td>\n",
       "      <td>NaN</td>\n",
       "      <td>NaN</td>\n",
       "      <td>NaN</td>\n",
       "      <td>NaN</td>\n",
       "      <td>NaN</td>\n",
       "      <td>NaN</td>\n",
       "      <td>NaN</td>\n",
       "    </tr>\n",
       "  </tbody>\n",
       "</table>\n",
       "</div>"
      ],
      "text/plain": [
       "[{'name': 'userId', 'tags': {<Tags.CATEGORICAL: 'categorical'>}, 'properties': {'num_buckets': None, 'embedding_sizes': {'cardinality': 6041.0, 'dimension': 210.0}, 'freq_threshold': 0.0, 'start_index': 0.0, 'max_size': 0.0, 'cat_path': './/categories/unique.userId.parquet', 'domain': {'min': 0, 'max': 6040, 'name': 'userId'}}, 'dtype': dtype('int64'), 'is_list': False, 'is_ragged': False}, {'name': 'movieId', 'tags': {<Tags.CATEGORICAL: 'categorical'>}, 'properties': {'freq_threshold': 0.0, 'cat_path': './/categories/unique.movieId.parquet', 'max_size': 0.0, 'num_buckets': None, 'start_index': 0.0, 'embedding_sizes': {'dimension': 159.0, 'cardinality': 3672.0}, 'domain': {'min': 0, 'max': 3671, 'name': 'movieId'}}, 'dtype': dtype('int64'), 'is_list': False, 'is_ragged': False}, {'name': 'rating', 'tags': {<Tags.TARGET: 'target'>, <Tags.REGRESSION: 'regression'>}, 'properties': {}, 'dtype': dtype('int64'), 'is_list': False, 'is_ragged': False}]"
      ]
     },
     "execution_count": 16,
     "metadata": {},
     "output_type": "execute_result"
    }
   ],
   "source": [
    "train_transformed.schema"
   ]
  },
  {
   "cell_type": "code",
   "execution_count": 17,
   "metadata": {},
   "outputs": [],
   "source": [
    "model = mm.DLRMModel(\n",
    "    train_transformed.schema,\n",
    "    embedding_dim=64,\n",
    "    bottom_block=mm.MLPBlock([128, 64]),\n",
    "    top_block=mm.MLPBlock([128, 64, 32]),\n",
    "    prediction_tasks=mm.RegressionTask('rating')\n",
    ")"
   ]
  },
  {
   "cell_type": "code",
   "execution_count": 18,
   "metadata": {},
   "outputs": [],
   "source": [
    "opt = tensorflow.optimizers.Adam(learning_rate=1e-3)\n",
    "model.compile(optimizer=opt)"
   ]
  },
  {
   "cell_type": "code",
   "execution_count": null,
   "metadata": {},
   "outputs": [],
   "source": [
    "model.fit(train_transformed, validation_data=valid_transformed, batch_size=1024, epochs=5)"
   ]
  },
  {
   "cell_type": "code",
   "execution_count": 20,
   "metadata": {},
   "outputs": [
    {
     "name": "stdout",
     "output_type": "stream",
     "text": [
      "Epoch 1/3\n",
      "782/782 [==============================] - 14s 17ms/step - loss: 0.2816 - root_mean_squared_error: 0.5306 - regularization_loss: 0.0000e+00 - loss_batch: 0.2813 - val_loss: 0.9677 - val_root_mean_squared_error: 0.9837 - val_regularization_loss: 0.0000e+00 - val_loss_batch: 1.0311\n",
      "Epoch 2/3\n",
      "782/782 [==============================] - 13s 17ms/step - loss: 0.2689 - root_mean_squared_error: 0.5185 - regularization_loss: 0.0000e+00 - loss_batch: 0.2686 - val_loss: 0.9838 - val_root_mean_squared_error: 0.9919 - val_regularization_loss: 0.0000e+00 - val_loss_batch: 1.0542\n",
      "Epoch 3/3\n",
      "782/782 [==============================] - 13s 16ms/step - loss: 0.2608 - root_mean_squared_error: 0.5107 - regularization_loss: 0.0000e+00 - loss_batch: 0.2606 - val_loss: 1.0006 - val_root_mean_squared_error: 1.0003 - val_regularization_loss: 0.0000e+00 - val_loss_batch: 1.0762\n"
     ]
    }
   ],
   "source": [
    "model.optimizer.learning_rate = 1e-4\n",
    "metrics = model.fit(train_transformed, validation_data=valid_transformed, batch_size=1024, epochs=3)"
   ]
  },
  {
   "cell_type": "markdown",
   "metadata": {},
   "source": [
    "### 4) Inference"
   ]
  },
  {
   "cell_type": "code",
   "execution_count": 24,
   "metadata": {},
   "outputs": [
    {
     "name": "stderr",
     "output_type": "stream",
     "text": [
      "2022-12-17 22:11:30.936557: I tensorflow/core/grappler/optimizers/custom_graph_optimizer_registry.cc:114] Plugin optimizer for device_type GPU is enabled.\n"
     ]
    }
   ],
   "source": [
    "predictions = model.predict(valid_transformed,batch_size = 64)"
   ]
  },
  {
   "cell_type": "code",
   "execution_count": 28,
   "metadata": {},
   "outputs": [
    {
     "data": {
      "text/html": [
       "<div>\n",
       "<style scoped>\n",
       "    .dataframe tbody tr th:only-of-type {\n",
       "        vertical-align: middle;\n",
       "    }\n",
       "\n",
       "    .dataframe tbody tr th {\n",
       "        vertical-align: top;\n",
       "    }\n",
       "\n",
       "    .dataframe thead th {\n",
       "        text-align: right;\n",
       "    }\n",
       "</style>\n",
       "<table border=\"1\" class=\"dataframe\">\n",
       "  <thead>\n",
       "    <tr style=\"text-align: right;\">\n",
       "      <th></th>\n",
       "      <th>userId</th>\n",
       "      <th>movieId</th>\n",
       "      <th>rating</th>\n",
       "    </tr>\n",
       "  </thead>\n",
       "  <tbody>\n",
       "    <tr>\n",
       "      <th>0</th>\n",
       "      <td>1270</td>\n",
       "      <td>451</td>\n",
       "      <td>3</td>\n",
       "    </tr>\n",
       "    <tr>\n",
       "      <th>1</th>\n",
       "      <td>134</td>\n",
       "      <td>1858</td>\n",
       "      <td>4</td>\n",
       "    </tr>\n",
       "    <tr>\n",
       "      <th>2</th>\n",
       "      <td>1309</td>\n",
       "      <td>626</td>\n",
       "      <td>3</td>\n",
       "    </tr>\n",
       "    <tr>\n",
       "      <th>3</th>\n",
       "      <td>1484</td>\n",
       "      <td>627</td>\n",
       "      <td>4</td>\n",
       "    </tr>\n",
       "    <tr>\n",
       "      <th>4</th>\n",
       "      <td>419</td>\n",
       "      <td>423</td>\n",
       "      <td>5</td>\n",
       "    </tr>\n",
       "  </tbody>\n",
       "</table>\n",
       "</div>"
      ],
      "text/plain": [
       "   userId  movieId  rating\n",
       "0    1270      451       3\n",
       "1     134     1858       4\n",
       "2    1309      626       3\n",
       "3    1484      627       4\n",
       "4     419      423       5"
      ]
     },
     "execution_count": 28,
     "metadata": {},
     "output_type": "execute_result"
    }
   ],
   "source": [
    "valid_transformed.head()"
   ]
  },
  {
   "cell_type": "code",
   "execution_count": 26,
   "metadata": {},
   "outputs": [
    {
     "data": {
      "text/plain": [
       "array([[2.5554368],\n",
       "       [4.6113815],\n",
       "       [3.0808837],\n",
       "       ...,\n",
       "       [3.7482548],\n",
       "       [3.9042666],\n",
       "       [4.4439774]], dtype=float32)"
      ]
     },
     "execution_count": 26,
     "metadata": {},
     "output_type": "execute_result"
    }
   ],
   "source": [
    "predictions"
   ]
  },
  {
   "cell_type": "code",
   "execution_count": null,
   "metadata": {},
   "outputs": [],
   "source": []
  }
 ],
 "metadata": {
  "kernelspec": {
   "display_name": "Python 3.8.13 ('tensorflow')",
   "language": "python",
   "name": "python3"
  },
  "language_info": {
   "codemirror_mode": {
    "name": "ipython",
    "version": 3
   },
   "file_extension": ".py",
   "mimetype": "text/x-python",
   "name": "python",
   "nbconvert_exporter": "python",
   "pygments_lexer": "ipython3",
   "version": "3.8.13"
  },
  "merlin": {
   "containers": [
    "nvcr.io/nvidia/merlin/merlin-hugectr:latest",
    "nvcr.io/nvidia/merlin/merlin-tensorflow:latest",
    "nvcr.io/nvidia/merlin/merlin-pytorch:latest"
   ]
  },
  "vscode": {
   "interpreter": {
    "hash": "538c071ff3fc63a8d5fd3978ad0b6986a4f6380c636794f6cdcbb34d129e3ae3"
   }
  }
 },
 "nbformat": 4,
 "nbformat_minor": 4
}
