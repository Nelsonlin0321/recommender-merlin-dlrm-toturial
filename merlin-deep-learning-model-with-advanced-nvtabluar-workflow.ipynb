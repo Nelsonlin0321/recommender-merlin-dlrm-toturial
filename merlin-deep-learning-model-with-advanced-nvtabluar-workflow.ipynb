{
 "cells": [
  {
   "cell_type": "markdown",
   "metadata": {},
   "source": [
    "Reference notebook :https://github.com/NVIDIAm-Merlin/NVTabular/blob/main/examples/02-Advanced-NVTabular-workflow.ipynb map"
   ]
  },
  {
   "cell_type": "code",
   "execution_count": 1,
   "metadata": {},
   "outputs": [
    {
     "data": {
      "text/plain": [
       "True"
      ]
     },
     "execution_count": 1,
     "metadata": {},
     "output_type": "execute_result"
    }
   ],
   "source": [
    "import os\n",
    "import dotenv\n",
    "dotenv.load_dotenv(\".env\")"
   ]
  },
  {
   "cell_type": "markdown",
   "metadata": {},
   "source": [
    "### (1) Read The Data"
   ]
  },
  {
   "cell_type": "code",
   "execution_count": 2,
   "metadata": {},
   "outputs": [
    {
     "name": "stderr",
     "output_type": "stream",
     "text": [
      "--- Logging error ---\n",
      "Traceback (most recent call last):\n",
      "  File \"/Users/nelsonlin/miniforge3/envs/tensorflow/lib/python3.8/site-packages/merlin/models/utils/nvt_utils.py\", line 40, in _check_nvt_gpu\n",
      "    import cudf  # noqa\n",
      "ModuleNotFoundError: No module named 'cudf'\n",
      "\n",
      "During handling of the above exception, another exception occurred:\n",
      "\n",
      "Traceback (most recent call last):\n",
      "  File \"/Users/nelsonlin/miniforge3/envs/tensorflow/lib/python3.8/logging/__init__.py\", line 1085, in emit\n",
      "    msg = self.format(record)\n",
      "  File \"/Users/nelsonlin/miniforge3/envs/tensorflow/lib/python3.8/logging/__init__.py\", line 929, in format\n",
      "    return fmt.format(record)\n",
      "  File \"/Users/nelsonlin/miniforge3/envs/tensorflow/lib/python3.8/logging/__init__.py\", line 668, in format\n",
      "    record.message = record.getMessage()\n",
      "  File \"/Users/nelsonlin/miniforge3/envs/tensorflow/lib/python3.8/logging/__init__.py\", line 373, in getMessage\n",
      "    msg = msg % self.args\n",
      "TypeError: not all arguments converted during string formatting\n",
      "Call stack:\n",
      "  File \"/Users/nelsonlin/miniforge3/envs/tensorflow/lib/python3.8/runpy.py\", line 194, in _run_module_as_main\n",
      "    return _run_code(code, main_globals, None,\n",
      "  File \"/Users/nelsonlin/miniforge3/envs/tensorflow/lib/python3.8/runpy.py\", line 87, in _run_code\n",
      "    exec(code, run_globals)\n",
      "  File \"/Users/nelsonlin/miniforge3/envs/tensorflow/lib/python3.8/site-packages/ipykernel_launcher.py\", line 17, in <module>\n",
      "    app.launch_new_instance()\n",
      "  File \"/Users/nelsonlin/miniforge3/envs/tensorflow/lib/python3.8/site-packages/traitlets/config/application.py\", line 982, in launch_instance\n",
      "    app.start()\n",
      "  File \"/Users/nelsonlin/miniforge3/envs/tensorflow/lib/python3.8/site-packages/ipykernel/kernelapp.py\", line 712, in start\n",
      "    self.io_loop.start()\n",
      "  File \"/Users/nelsonlin/miniforge3/envs/tensorflow/lib/python3.8/site-packages/tornado/platform/asyncio.py\", line 215, in start\n",
      "    self.asyncio_loop.run_forever()\n",
      "  File \"/Users/nelsonlin/miniforge3/envs/tensorflow/lib/python3.8/asyncio/base_events.py\", line 570, in run_forever\n",
      "    self._run_once()\n",
      "  File \"/Users/nelsonlin/miniforge3/envs/tensorflow/lib/python3.8/asyncio/base_events.py\", line 1859, in _run_once\n",
      "    handle._run()\n",
      "  File \"/Users/nelsonlin/miniforge3/envs/tensorflow/lib/python3.8/asyncio/events.py\", line 81, in _run\n",
      "    self._context.run(self._callback, *self._args)\n",
      "  File \"/Users/nelsonlin/miniforge3/envs/tensorflow/lib/python3.8/site-packages/ipykernel/kernelbase.py\", line 510, in dispatch_queue\n",
      "    await self.process_one()\n",
      "  File \"/Users/nelsonlin/miniforge3/envs/tensorflow/lib/python3.8/site-packages/ipykernel/kernelbase.py\", line 499, in process_one\n",
      "    await dispatch(*args)\n",
      "  File \"/Users/nelsonlin/miniforge3/envs/tensorflow/lib/python3.8/site-packages/ipykernel/kernelbase.py\", line 406, in dispatch_shell\n",
      "    await result\n",
      "  File \"/Users/nelsonlin/miniforge3/envs/tensorflow/lib/python3.8/site-packages/ipykernel/kernelbase.py\", line 730, in execute_request\n",
      "    reply_content = await reply_content\n",
      "  File \"/Users/nelsonlin/miniforge3/envs/tensorflow/lib/python3.8/site-packages/ipykernel/ipkernel.py\", line 383, in do_execute\n",
      "    res = shell.run_cell(\n",
      "  File \"/Users/nelsonlin/miniforge3/envs/tensorflow/lib/python3.8/site-packages/ipykernel/zmqshell.py\", line 528, in run_cell\n",
      "    return super().run_cell(*args, **kwargs)\n",
      "  File \"/Users/nelsonlin/miniforge3/envs/tensorflow/lib/python3.8/site-packages/IPython/core/interactiveshell.py\", line 2940, in run_cell\n",
      "    result = self._run_cell(\n",
      "  File \"/Users/nelsonlin/miniforge3/envs/tensorflow/lib/python3.8/site-packages/IPython/core/interactiveshell.py\", line 2995, in _run_cell\n",
      "    return runner(coro)\n",
      "  File \"/Users/nelsonlin/miniforge3/envs/tensorflow/lib/python3.8/site-packages/IPython/core/async_helpers.py\", line 129, in _pseudo_sync_runner\n",
      "    coro.send(None)\n",
      "  File \"/Users/nelsonlin/miniforge3/envs/tensorflow/lib/python3.8/site-packages/IPython/core/interactiveshell.py\", line 3194, in run_cell_async\n",
      "    has_raised = await self.run_ast_nodes(code_ast.body, cell_name,\n",
      "  File \"/Users/nelsonlin/miniforge3/envs/tensorflow/lib/python3.8/site-packages/IPython/core/interactiveshell.py\", line 3373, in run_ast_nodes\n",
      "    if await self.run_code(code, result, async_=asy):\n",
      "  File \"/Users/nelsonlin/miniforge3/envs/tensorflow/lib/python3.8/site-packages/IPython/core/interactiveshell.py\", line 3433, in run_code\n",
      "    exec(code_obj, self.user_global_ns, self.user_ns)\n",
      "  File \"/var/folders/4w/tnvzcw_11sn37xqf29yy4b340000gn/T/ipykernel_56552/2028433617.py\", line 3, in <module>\n",
      "    get_movielens(variant=\"ml-1m\", path=input_path); #noqa\n",
      "  File \"/Users/nelsonlin/miniforge3/envs/tensorflow/lib/python3.8/site-packages/merlin/datasets/entertainment/movielens/dataset.py\", line 70, in get_movielens\n",
      "    require_nvt()\n",
      "  File \"/Users/nelsonlin/miniforge3/envs/tensorflow/lib/python3.8/site-packages/merlin/models/utils/nvt_utils.py\", line 15, in require_nvt\n",
      "    _check_nvt_gpu()\n",
      "  File \"/Users/nelsonlin/miniforge3/envs/tensorflow/lib/python3.8/site-packages/merlin/models/utils/nvt_utils.py\", line 42, in _check_nvt_gpu\n",
      "    logging.warning(\n",
      "Message: 'A GPU was detected but rapids is not installed.'\n",
      "Arguments: ('NVTabular will not be able to use GPU.', 'Look at the documentation for more information at rapids.ai')\n",
      "/Users/nelsonlin/miniforge3/envs/tensorflow/lib/python3.8/site-packages/merlin/io/dataset.py:251: UserWarning: Initializing an NVTabular Dataset in CPU mode.This is an experimental feature with extremely limited support!\n",
      "  warnings.warn(\n",
      "/Users/nelsonlin/miniforge3/envs/tensorflow/lib/python3.8/site-packages/merlin/schema/tags.py:148: UserWarning: Compound tags like Tags.USER_ID have been deprecated and will be removed in a future version. Please use the atomic versions of these tags, like [<Tags.USER: 'user'>, <Tags.ID: 'id'>].\n",
      "  warnings.warn(\n",
      "/Users/nelsonlin/miniforge3/envs/tensorflow/lib/python3.8/site-packages/merlin/schema/tags.py:148: UserWarning: Compound tags like Tags.ITEM_ID have been deprecated and will be removed in a future version. Please use the atomic versions of these tags, like [<Tags.ITEM: 'item'>, <Tags.ID: 'id'>].\n",
      "  warnings.warn(\n"
     ]
    }
   ],
   "source": [
    "from merlin.datasets.entertainment import get_movielens\n",
    "input_path = os.environ.get(\"INPUT_DATA_DIR\", os.path.expanduser(\"~/merlin-framework/movielens/\"))\n",
    "get_movielens(variant=\"ml-1m\", path=input_path); #noqa"
   ]
  },
  {
   "cell_type": "code",
   "execution_count": 3,
   "metadata": {},
   "outputs": [],
   "source": [
    "from merlin.core.dispatch import get_lib\n",
    "\n",
    "data = get_lib().read_parquet(f'{input_path}/ml-1m/train.parquet').sample(frac=1)\n",
    "\n",
    "train = data.iloc[:600_000]\n",
    "valid = data.iloc[600_000:]\n",
    "\n",
    "movies = get_lib().read_parquet(f'{input_path}/ml-1m/movies_converted.parquet')\n"
   ]
  },
  {
   "cell_type": "code",
   "execution_count": 4,
   "metadata": {},
   "outputs": [
    {
     "data": {
      "text/html": [
       "<div>\n",
       "<style scoped>\n",
       "    .dataframe tbody tr th:only-of-type {\n",
       "        vertical-align: middle;\n",
       "    }\n",
       "\n",
       "    .dataframe tbody tr th {\n",
       "        vertical-align: top;\n",
       "    }\n",
       "\n",
       "    .dataframe thead th {\n",
       "        text-align: right;\n",
       "    }\n",
       "</style>\n",
       "<table border=\"1\" class=\"dataframe\">\n",
       "  <thead>\n",
       "    <tr style=\"text-align: right;\">\n",
       "      <th></th>\n",
       "      <th>userId</th>\n",
       "      <th>movieId</th>\n",
       "      <th>rating</th>\n",
       "      <th>timestamp</th>\n",
       "    </tr>\n",
       "  </thead>\n",
       "  <tbody>\n",
       "    <tr>\n",
       "      <th>198970</th>\n",
       "      <td>1222</td>\n",
       "      <td>3481</td>\n",
       "      <td>3</td>\n",
       "      <td>974919692</td>\n",
       "    </tr>\n",
       "    <tr>\n",
       "      <th>177152</th>\n",
       "      <td>1117</td>\n",
       "      <td>1792</td>\n",
       "      <td>3</td>\n",
       "      <td>975694001</td>\n",
       "    </tr>\n",
       "    <tr>\n",
       "      <th>710282</th>\n",
       "      <td>4260</td>\n",
       "      <td>3614</td>\n",
       "      <td>3</td>\n",
       "      <td>965323855</td>\n",
       "    </tr>\n",
       "    <tr>\n",
       "      <th>989811</th>\n",
       "      <td>5976</td>\n",
       "      <td>1961</td>\n",
       "      <td>4</td>\n",
       "      <td>956970197</td>\n",
       "    </tr>\n",
       "    <tr>\n",
       "      <th>417755</th>\n",
       "      <td>2522</td>\n",
       "      <td>1221</td>\n",
       "      <td>4</td>\n",
       "      <td>974064861</td>\n",
       "    </tr>\n",
       "  </tbody>\n",
       "</table>\n",
       "</div>"
      ],
      "text/plain": [
       "        userId  movieId  rating  timestamp\n",
       "198970    1222     3481       3  974919692\n",
       "177152    1117     1792       3  975694001\n",
       "710282    4260     3614       3  965323855\n",
       "989811    5976     1961       4  956970197\n",
       "417755    2522     1221       4  974064861"
      ]
     },
     "execution_count": 4,
     "metadata": {},
     "output_type": "execute_result"
    }
   ],
   "source": [
    "data.head()"
   ]
  },
  {
   "cell_type": "code",
   "execution_count": 5,
   "metadata": {},
   "outputs": [
    {
     "data": {
      "text/html": [
       "<div>\n",
       "<style scoped>\n",
       "    .dataframe tbody tr th:only-of-type {\n",
       "        vertical-align: middle;\n",
       "    }\n",
       "\n",
       "    .dataframe tbody tr th {\n",
       "        vertical-align: top;\n",
       "    }\n",
       "\n",
       "    .dataframe thead th {\n",
       "        text-align: right;\n",
       "    }\n",
       "</style>\n",
       "<table border=\"1\" class=\"dataframe\">\n",
       "  <thead>\n",
       "    <tr style=\"text-align: right;\">\n",
       "      <th></th>\n",
       "      <th>movieId</th>\n",
       "      <th>title</th>\n",
       "      <th>genres</th>\n",
       "    </tr>\n",
       "  </thead>\n",
       "  <tbody>\n",
       "    <tr>\n",
       "      <th>0</th>\n",
       "      <td>1</td>\n",
       "      <td>Toy Story (1995)</td>\n",
       "      <td>[Animation, Children's, Comedy]</td>\n",
       "    </tr>\n",
       "    <tr>\n",
       "      <th>1</th>\n",
       "      <td>2</td>\n",
       "      <td>Jumanji (1995)</td>\n",
       "      <td>[Adventure, Children's, Fantasy]</td>\n",
       "    </tr>\n",
       "    <tr>\n",
       "      <th>2</th>\n",
       "      <td>3</td>\n",
       "      <td>Grumpier Old Men (1995)</td>\n",
       "      <td>[Comedy, Romance]</td>\n",
       "    </tr>\n",
       "    <tr>\n",
       "      <th>3</th>\n",
       "      <td>4</td>\n",
       "      <td>Waiting to Exhale (1995)</td>\n",
       "      <td>[Comedy, Drama]</td>\n",
       "    </tr>\n",
       "    <tr>\n",
       "      <th>4</th>\n",
       "      <td>5</td>\n",
       "      <td>Father of the Bride Part II (1995)</td>\n",
       "      <td>[Comedy]</td>\n",
       "    </tr>\n",
       "  </tbody>\n",
       "</table>\n",
       "</div>"
      ],
      "text/plain": [
       "   movieId                               title  \\\n",
       "0        1                    Toy Story (1995)   \n",
       "1        2                      Jumanji (1995)   \n",
       "2        3             Grumpier Old Men (1995)   \n",
       "3        4            Waiting to Exhale (1995)   \n",
       "4        5  Father of the Bride Part II (1995)   \n",
       "\n",
       "                             genres  \n",
       "0   [Animation, Children's, Comedy]  \n",
       "1  [Adventure, Children's, Fantasy]  \n",
       "2                 [Comedy, Romance]  \n",
       "3                   [Comedy, Drama]  \n",
       "4                          [Comedy]  "
      ]
     },
     "execution_count": 5,
     "metadata": {},
     "output_type": "execute_result"
    }
   ],
   "source": [
    "movies.head()"
   ]
  },
  {
   "cell_type": "markdown",
   "metadata": {},
   "source": [
    "npartitions. We can leverage it to specify into how many chunks we would like our data to be split. Our workflow will process data in chunks and by increasing the number of partitions we can limit the memory footprint."
   ]
  },
  {
   "cell_type": "code",
   "execution_count": 6,
   "metadata": {},
   "outputs": [
    {
     "name": "stderr",
     "output_type": "stream",
     "text": [
      "/Users/nelsonlin/miniforge3/envs/tensorflow/lib/python3.8/site-packages/merlin/io/dataset.py:251: UserWarning: Initializing an NVTabular Dataset in CPU mode.This is an experimental feature with extremely limited support!\n",
      "  warnings.warn(\n"
     ]
    },
    {
     "data": {
      "text/plain": [
       "(<merlin.io.dataset.Dataset at 0x29eb471c0>,\n",
       " <merlin.io.dataset.Dataset at 0x29eb47280>)"
      ]
     },
     "execution_count": 6,
     "metadata": {},
     "output_type": "execute_result"
    }
   ],
   "source": [
    "import nvtabular as nvt\n",
    "from merlin.schema.tags import Tags\n",
    "\n",
    "train_ds = nvt.Dataset(train, npartitions=2)\n",
    "valid_ds = nvt.Dataset(valid)\n",
    "\n",
    "train_ds, valid_ds"
   ]
  },
  {
   "cell_type": "code",
   "execution_count": 7,
   "metadata": {},
   "outputs": [
    {
     "data": {
      "text/html": [
       "<div>\n",
       "<style scoped>\n",
       "    .dataframe tbody tr th:only-of-type {\n",
       "        vertical-align: middle;\n",
       "    }\n",
       "\n",
       "    .dataframe tbody tr th {\n",
       "        vertical-align: top;\n",
       "    }\n",
       "\n",
       "    .dataframe thead th {\n",
       "        text-align: right;\n",
       "    }\n",
       "</style>\n",
       "<table border=\"1\" class=\"dataframe\">\n",
       "  <thead>\n",
       "    <tr style=\"text-align: right;\">\n",
       "      <th></th>\n",
       "      <th>userId</th>\n",
       "      <th>movieId</th>\n",
       "      <th>rating</th>\n",
       "      <th>timestamp</th>\n",
       "    </tr>\n",
       "  </thead>\n",
       "  <tbody>\n",
       "    <tr>\n",
       "      <th>198970</th>\n",
       "      <td>1222</td>\n",
       "      <td>3481</td>\n",
       "      <td>3</td>\n",
       "      <td>974919692</td>\n",
       "    </tr>\n",
       "    <tr>\n",
       "      <th>177152</th>\n",
       "      <td>1117</td>\n",
       "      <td>1792</td>\n",
       "      <td>3</td>\n",
       "      <td>975694001</td>\n",
       "    </tr>\n",
       "    <tr>\n",
       "      <th>710282</th>\n",
       "      <td>4260</td>\n",
       "      <td>3614</td>\n",
       "      <td>3</td>\n",
       "      <td>965323855</td>\n",
       "    </tr>\n",
       "    <tr>\n",
       "      <th>989811</th>\n",
       "      <td>5976</td>\n",
       "      <td>1961</td>\n",
       "      <td>4</td>\n",
       "      <td>956970197</td>\n",
       "    </tr>\n",
       "    <tr>\n",
       "      <th>417755</th>\n",
       "      <td>2522</td>\n",
       "      <td>1221</td>\n",
       "      <td>4</td>\n",
       "      <td>974064861</td>\n",
       "    </tr>\n",
       "  </tbody>\n",
       "</table>\n",
       "</div>"
      ],
      "text/plain": [
       "        userId  movieId  rating  timestamp\n",
       "198970    1222     3481       3  974919692\n",
       "177152    1117     1792       3  975694001\n",
       "710282    4260     3614       3  965323855\n",
       "989811    5976     1961       4  956970197\n",
       "417755    2522     1221       4  974064861"
      ]
     },
     "execution_count": 7,
     "metadata": {},
     "output_type": "execute_result"
    }
   ],
   "source": [
    "train_ds.head()"
   ]
  },
  {
   "cell_type": "code",
   "execution_count": 8,
   "metadata": {},
   "outputs": [
    {
     "name": "stderr",
     "output_type": "stream",
     "text": [
      "/Users/nelsonlin/miniforge3/envs/tensorflow/lib/python3.8/site-packages/merlin/io/dataset.py:251: UserWarning: Initializing an NVTabular Dataset in CPU mode.This is an experimental feature with extremely limited support!\n",
      "  warnings.warn(\n"
     ]
    },
    {
     "data": {
      "text/plain": [
       "<merlin.io.dataset.Dataset at 0x299faad30>"
      ]
     },
     "execution_count": 8,
     "metadata": {},
     "output_type": "execute_result"
    }
   ],
   "source": [
    "train_ds.shuffle_by_keys('userId')\n",
    "valid_ds.shuffle_by_keys('userId')"
   ]
  },
  {
   "cell_type": "markdown",
   "metadata": {},
   "source": [
    "### (2) Define workflow"
   ]
  },
  {
   "cell_type": "markdown",
   "metadata": {},
   "source": [
    "\n",
    "\n",
    "We want to make use of information contained in the movies DataFrame.\n",
    "\n",
    "Let us join it onto our data, making sure we only select the genres column.\n"
   ]
  },
  {
   "cell_type": "code",
   "execution_count": 9,
   "metadata": {},
   "outputs": [],
   "source": [
    "genres = ['movieId'] >> nvt.ops.JoinExternal(movies, on='movieId', columns_ext=['movieId', 'genres'])"
   ]
  },
  {
   "cell_type": "code",
   "execution_count": 10,
   "metadata": {},
   "outputs": [
    {
     "data": {
      "text/plain": [
       "0     [Animation, Children's, Comedy]\n",
       "1    [Adventure, Children's, Fantasy]\n",
       "2                   [Comedy, Romance]\n",
       "3                     [Comedy, Drama]\n",
       "4                            [Comedy]\n",
       "Name: genres, dtype: object"
      ]
     },
     "execution_count": 10,
     "metadata": {},
     "output_type": "execute_result"
    }
   ],
   "source": [
    "movies['genres'].head()"
   ]
  },
  {
   "cell_type": "markdown",
   "metadata": {},
   "source": [
    "Encoding a list of strings as categories"
   ]
  },
  {
   "cell_type": "code",
   "execution_count": 11,
   "metadata": {},
   "outputs": [],
   "source": [
    "genres = genres >> nvt.ops.Categorify(freq_threshold=10)"
   ]
  },
  {
   "cell_type": "code",
   "execution_count": 12,
   "metadata": {},
   "outputs": [
    {
     "data": {
      "image/svg+xml": "<?xml version=\"1.0\" encoding=\"UTF-8\" standalone=\"no\"?>\n<!DOCTYPE svg PUBLIC \"-//W3C//DTD SVG 1.1//EN\"\n \"http://www.w3.org/Graphics/SVG/1.1/DTD/svg11.dtd\">\n<!-- Generated by graphviz version 7.0.4 (20221203.1631)\n -->\n<!-- Pages: 1 -->\n<svg width=\"118pt\" height=\"332pt\"\n viewBox=\"0.00 0.00 118.49 332.00\" xmlns=\"http://www.w3.org/2000/svg\" xmlns:xlink=\"http://www.w3.org/1999/xlink\">\n<g id=\"graph0\" class=\"graph\" transform=\"scale(1 1) rotate(0) translate(4 328)\">\n<polygon fill=\"white\" stroke=\"none\" points=\"-4,4 -4,-328 114.49,-328 114.49,4 -4,4\"/>\n<!-- 0 -->\n<g id=\"node1\" class=\"node\">\n<title>0</title>\n<ellipse fill=\"none\" stroke=\"black\" cx=\"55.25\" cy=\"-90\" rx=\"48.19\" ry=\"18\"/>\n<text text-anchor=\"middle\" x=\"55.25\" y=\"-86.3\" font-family=\"Times,serif\" font-size=\"14.00\">Categorify</text>\n</g>\n<!-- 3 -->\n<g id=\"node5\" class=\"node\">\n<title>3</title>\n<ellipse fill=\"none\" stroke=\"black\" cx=\"55.25\" cy=\"-18\" rx=\"50.09\" ry=\"18\"/>\n<text text-anchor=\"middle\" x=\"55.25\" y=\"-14.3\" font-family=\"Times,serif\" font-size=\"14.00\">output cols</text>\n</g>\n<!-- 0&#45;&gt;3 -->\n<g id=\"edge4\" class=\"edge\">\n<title>0&#45;&gt;3</title>\n<path fill=\"none\" stroke=\"black\" d=\"M55.25,-71.7C55.25,-64.41 55.25,-55.73 55.25,-47.54\"/>\n<polygon fill=\"black\" stroke=\"black\" points=\"58.75,-47.62 55.25,-37.62 51.75,-47.62 58.75,-47.62\"/>\n</g>\n<!-- 1 -->\n<g id=\"node2\" class=\"node\">\n<title>1</title>\n<ellipse fill=\"none\" stroke=\"black\" cx=\"55.25\" cy=\"-162\" rx=\"55.49\" ry=\"18\"/>\n<text text-anchor=\"middle\" x=\"55.25\" y=\"-158.3\" font-family=\"Times,serif\" font-size=\"14.00\">JoinExternal</text>\n</g>\n<!-- 1&#45;&gt;0 -->\n<g id=\"edge1\" class=\"edge\">\n<title>1&#45;&gt;0</title>\n<path fill=\"none\" stroke=\"black\" d=\"M55.25,-143.7C55.25,-136.41 55.25,-127.73 55.25,-119.54\"/>\n<polygon fill=\"black\" stroke=\"black\" points=\"58.75,-119.62 55.25,-109.62 51.75,-119.62 58.75,-119.62\"/>\n</g>\n<!-- 2 -->\n<g id=\"node3\" class=\"node\">\n<title>2</title>\n<ellipse fill=\"none\" stroke=\"black\" cx=\"55.25\" cy=\"-234\" rx=\"53.89\" ry=\"18\"/>\n<text text-anchor=\"middle\" x=\"55.25\" y=\"-230.3\" font-family=\"Times,serif\" font-size=\"14.00\">SelectionOp</text>\n</g>\n<!-- 2&#45;&gt;1 -->\n<g id=\"edge2\" class=\"edge\">\n<title>2&#45;&gt;1</title>\n<path fill=\"none\" stroke=\"black\" d=\"M55.25,-215.7C55.25,-208.41 55.25,-199.73 55.25,-191.54\"/>\n<polygon fill=\"black\" stroke=\"black\" points=\"58.75,-191.62 55.25,-181.62 51.75,-191.62 58.75,-191.62\"/>\n</g>\n<!-- 2_selector -->\n<g id=\"node4\" class=\"node\">\n<title>2_selector</title>\n<ellipse fill=\"none\" stroke=\"black\" cx=\"55.25\" cy=\"-306\" rx=\"49.29\" ry=\"18\"/>\n<text text-anchor=\"middle\" x=\"55.25\" y=\"-302.3\" font-family=\"Times,serif\" font-size=\"14.00\">[&#39;movieId&#39;]</text>\n</g>\n<!-- 2_selector&#45;&gt;2 -->\n<g id=\"edge3\" class=\"edge\">\n<title>2_selector&#45;&gt;2</title>\n<path fill=\"none\" stroke=\"black\" d=\"M55.25,-287.7C55.25,-280.41 55.25,-271.73 55.25,-263.54\"/>\n<polygon fill=\"black\" stroke=\"black\" points=\"58.75,-263.62 55.25,-253.62 51.75,-263.62 58.75,-263.62\"/>\n</g>\n</g>\n</svg>\n",
      "text/plain": [
       "<graphviz.graphs.Digraph at 0x29eb5b850>"
      ]
     },
     "execution_count": 12,
     "metadata": {},
     "output_type": "execute_result"
    }
   ],
   "source": [
    "genres.graph\n"
   ]
  },
  {
   "cell_type": "markdown",
   "metadata": {},
   "source": [
    "Running a custom preprocessing step"
   ]
  },
  {
   "cell_type": "code",
   "execution_count": 13,
   "metadata": {},
   "outputs": [],
   "source": [
    "def rating_to_binary(col):\n",
    "    return col > 3"
   ]
  },
  {
   "cell_type": "code",
   "execution_count": 14,
   "metadata": {},
   "outputs": [],
   "source": [
    "binary_rating = ['rating'] >> nvt.ops.LambdaOp(rating_to_binary) >> nvt.ops.Rename(name='binary_rating')"
   ]
  },
  {
   "cell_type": "code",
   "execution_count": 15,
   "metadata": {},
   "outputs": [
    {
     "data": {
      "image/svg+xml": "<?xml version=\"1.0\" encoding=\"UTF-8\" standalone=\"no\"?>\n<!DOCTYPE svg PUBLIC \"-//W3C//DTD SVG 1.1//EN\"\n \"http://www.w3.org/Graphics/SVG/1.1/DTD/svg11.dtd\">\n<!-- Generated by graphviz version 7.0.4 (20221203.1631)\n -->\n<!-- Pages: 1 -->\n<svg width=\"147pt\" height=\"332pt\"\n viewBox=\"0.00 0.00 147.09 332.00\" xmlns=\"http://www.w3.org/2000/svg\" xmlns:xlink=\"http://www.w3.org/1999/xlink\">\n<g id=\"graph0\" class=\"graph\" transform=\"scale(1 1) rotate(0) translate(4 328)\">\n<polygon fill=\"white\" stroke=\"none\" points=\"-4,4 -4,-328 143.09,-328 143.09,4 -4,4\"/>\n<!-- 0 -->\n<g id=\"node1\" class=\"node\">\n<title>0</title>\n<ellipse fill=\"none\" stroke=\"black\" cx=\"69.54\" cy=\"-234\" rx=\"53.89\" ry=\"18\"/>\n<text text-anchor=\"middle\" x=\"69.54\" y=\"-230.3\" font-family=\"Times,serif\" font-size=\"14.00\">SelectionOp</text>\n</g>\n<!-- 2 -->\n<g id=\"node4\" class=\"node\">\n<title>2</title>\n<ellipse fill=\"none\" stroke=\"black\" cx=\"69.54\" cy=\"-162\" rx=\"69.59\" ry=\"18\"/>\n<text text-anchor=\"middle\" x=\"69.54\" y=\"-158.3\" font-family=\"Times,serif\" font-size=\"14.00\">rating_to_binary</text>\n</g>\n<!-- 0&#45;&gt;2 -->\n<g id=\"edge3\" class=\"edge\">\n<title>0&#45;&gt;2</title>\n<path fill=\"none\" stroke=\"black\" d=\"M69.54,-215.7C69.54,-208.41 69.54,-199.73 69.54,-191.54\"/>\n<polygon fill=\"black\" stroke=\"black\" points=\"73.04,-191.62 69.54,-181.62 66.04,-191.62 73.04,-191.62\"/>\n</g>\n<!-- 0_selector -->\n<g id=\"node2\" class=\"node\">\n<title>0_selector</title>\n<ellipse fill=\"none\" stroke=\"black\" cx=\"69.54\" cy=\"-306\" rx=\"40.09\" ry=\"18\"/>\n<text text-anchor=\"middle\" x=\"69.54\" y=\"-302.3\" font-family=\"Times,serif\" font-size=\"14.00\">[&#39;rating&#39;]</text>\n</g>\n<!-- 0_selector&#45;&gt;0 -->\n<g id=\"edge1\" class=\"edge\">\n<title>0_selector&#45;&gt;0</title>\n<path fill=\"none\" stroke=\"black\" d=\"M69.54,-287.7C69.54,-280.41 69.54,-271.73 69.54,-263.54\"/>\n<polygon fill=\"black\" stroke=\"black\" points=\"73.04,-263.62 69.54,-253.62 66.04,-263.62 73.04,-263.62\"/>\n</g>\n<!-- 1 -->\n<g id=\"node3\" class=\"node\">\n<title>1</title>\n<ellipse fill=\"none\" stroke=\"black\" cx=\"69.54\" cy=\"-90\" rx=\"40.09\" ry=\"18\"/>\n<text text-anchor=\"middle\" x=\"69.54\" y=\"-86.3\" font-family=\"Times,serif\" font-size=\"14.00\">Rename</text>\n</g>\n<!-- 3 -->\n<g id=\"node5\" class=\"node\">\n<title>3</title>\n<ellipse fill=\"none\" stroke=\"black\" cx=\"69.54\" cy=\"-18\" rx=\"50.09\" ry=\"18\"/>\n<text text-anchor=\"middle\" x=\"69.54\" y=\"-14.3\" font-family=\"Times,serif\" font-size=\"14.00\">output cols</text>\n</g>\n<!-- 1&#45;&gt;3 -->\n<g id=\"edge4\" class=\"edge\">\n<title>1&#45;&gt;3</title>\n<path fill=\"none\" stroke=\"black\" d=\"M69.54,-71.7C69.54,-64.41 69.54,-55.73 69.54,-47.54\"/>\n<polygon fill=\"black\" stroke=\"black\" points=\"73.04,-47.62 69.54,-37.62 66.04,-47.62 73.04,-47.62\"/>\n</g>\n<!-- 2&#45;&gt;1 -->\n<g id=\"edge2\" class=\"edge\">\n<title>2&#45;&gt;1</title>\n<path fill=\"none\" stroke=\"black\" d=\"M69.54,-143.7C69.54,-136.41 69.54,-127.73 69.54,-119.54\"/>\n<polygon fill=\"black\" stroke=\"black\" points=\"73.04,-119.62 69.54,-109.62 66.04,-119.62 73.04,-119.62\"/>\n</g>\n</g>\n</svg>\n",
      "text/plain": [
       "<graphviz.graphs.Digraph at 0x29eb6bd60>"
      ]
     },
     "execution_count": 15,
     "metadata": {},
     "output_type": "execute_result"
    }
   ],
   "source": [
    "binary_rating.graph"
   ]
  },
  {
   "cell_type": "markdown",
   "metadata": {},
   "source": [
    "Tagging columns\n",
    "- Running NVTabular operators on our data automatically tags the output columns. For instance, the Categorify operator we used above will tag the output columns as Tags.CATEGORICAL. Still, some information that can be useful down the road needs to be added by hand. This is true for instance for target information. Let's add this information below."
   ]
  },
  {
   "cell_type": "code",
   "execution_count": 16,
   "metadata": {},
   "outputs": [],
   "source": [
    "userId = ['userId'] >> nvt.ops.Categorify() >> nvt.ops.AddTags(tags=[Tags.USER_ID, Tags.CATEGORICAL, Tags.USER])\n",
    "movieId = ['movieId'] >> nvt.ops.Categorify() >> nvt.ops.AddTags(tags=[Tags.ITEM_ID, Tags.CATEGORICAL, Tags.ITEM])\n",
    "binary_rating = binary_rating >> nvt.ops.AddTags(tags=[Tags.TARGET, Tags.BINARY_CLASSIFICATION])"
   ]
  },
  {
   "cell_type": "markdown",
   "metadata": {},
   "source": [
    "Applying the workflow to the train and validation sets"
   ]
  },
  {
   "cell_type": "code",
   "execution_count": 17,
   "metadata": {},
   "outputs": [],
   "source": [
    "workflow = nvt.Workflow(userId + movieId + genres + binary_rating)"
   ]
  },
  {
   "cell_type": "code",
   "execution_count": 18,
   "metadata": {},
   "outputs": [
    {
     "name": "stderr",
     "output_type": "stream",
     "text": [
      "/Users/nelsonlin/miniforge3/envs/tensorflow/lib/python3.8/site-packages/merlin/schema/tags.py:148: UserWarning: Compound tags like Tags.USER_ID have been deprecated and will be removed in a future version. Please use the atomic versions of these tags, like [<Tags.USER: 'user'>, <Tags.ID: 'id'>].\n",
      "  warnings.warn(\n",
      "/Users/nelsonlin/miniforge3/envs/tensorflow/lib/python3.8/site-packages/merlin/schema/tags.py:148: UserWarning: Compound tags like Tags.ITEM_ID have been deprecated and will be removed in a future version. Please use the atomic versions of these tags, like [<Tags.ITEM: 'item'>, <Tags.ID: 'id'>].\n",
      "  warnings.warn(\n",
      "/Users/nelsonlin/miniforge3/envs/tensorflow/lib/python3.8/site-packages/merlin/io/dataset.py:407: UserWarning: Changing an NVTabular Dataset to CPU mode.This is an experimental feature with extremely limited support!\n",
      "  warnings.warn(\n",
      "/Users/nelsonlin/miniforge3/envs/tensorflow/lib/python3.8/site-packages/merlin/io/dataset.py:251: UserWarning: Initializing an NVTabular Dataset in CPU mode.This is an experimental feature with extremely limited support!\n",
      "  warnings.warn(\n",
      "/Users/nelsonlin/miniforge3/envs/tensorflow/lib/python3.8/site-packages/merlin/schema/tags.py:148: UserWarning: Compound tags like Tags.ITEM_ID have been deprecated and will be removed in a future version. Please use the atomic versions of these tags, like [<Tags.ITEM: 'item'>, <Tags.ID: 'id'>].\n",
      "  warnings.warn(\n",
      "/Users/nelsonlin/miniforge3/envs/tensorflow/lib/python3.8/site-packages/merlin/schema/tags.py:148: UserWarning: Compound tags like Tags.USER_ID have been deprecated and will be removed in a future version. Please use the atomic versions of these tags, like [<Tags.USER: 'user'>, <Tags.ID: 'id'>].\n",
      "  warnings.warn(\n"
     ]
    },
    {
     "data": {
      "text/html": [
       "<div>\n",
       "<style scoped>\n",
       "    .dataframe tbody tr th:only-of-type {\n",
       "        vertical-align: middle;\n",
       "    }\n",
       "\n",
       "    .dataframe tbody tr th {\n",
       "        vertical-align: top;\n",
       "    }\n",
       "\n",
       "    .dataframe thead th {\n",
       "        text-align: right;\n",
       "    }\n",
       "</style>\n",
       "<table border=\"1\" class=\"dataframe\">\n",
       "  <thead>\n",
       "    <tr style=\"text-align: right;\">\n",
       "      <th></th>\n",
       "      <th>userId</th>\n",
       "      <th>movieId</th>\n",
       "      <th>genres</th>\n",
       "      <th>binary_rating</th>\n",
       "    </tr>\n",
       "  </thead>\n",
       "  <tbody>\n",
       "    <tr>\n",
       "      <th>0</th>\n",
       "      <td>1331</td>\n",
       "      <td>884</td>\n",
       "      <td>[1]</td>\n",
       "      <td>False</td>\n",
       "    </tr>\n",
       "    <tr>\n",
       "      <th>1</th>\n",
       "      <td>3166</td>\n",
       "      <td>10</td>\n",
       "      <td>[3, 5, 4]</td>\n",
       "      <td>False</td>\n",
       "    </tr>\n",
       "    <tr>\n",
       "      <th>2</th>\n",
       "      <td>2643</td>\n",
       "      <td>572</td>\n",
       "      <td>[3, 7, 5, 4]</td>\n",
       "      <td>False</td>\n",
       "    </tr>\n",
       "    <tr>\n",
       "      <th>3</th>\n",
       "      <td>293</td>\n",
       "      <td>7</td>\n",
       "      <td>[3, 7, 5]</td>\n",
       "      <td>True</td>\n",
       "    </tr>\n",
       "    <tr>\n",
       "      <th>4</th>\n",
       "      <td>336</td>\n",
       "      <td>998</td>\n",
       "      <td>[1]</td>\n",
       "      <td>False</td>\n",
       "    </tr>\n",
       "  </tbody>\n",
       "</table>\n",
       "</div>"
      ],
      "text/plain": [
       "   userId  movieId        genres  binary_rating\n",
       "0    1331      884           [1]          False\n",
       "1    3166       10     [3, 5, 4]          False\n",
       "2    2643      572  [3, 7, 5, 4]          False\n",
       "3     293        7     [3, 7, 5]           True\n",
       "4     336      998           [1]          False"
      ]
     },
     "execution_count": 18,
     "metadata": {},
     "output_type": "execute_result"
    }
   ],
   "source": [
    "train_transformed = workflow.fit_transform(train_ds)\n",
    "valid_transformed = workflow.transform(valid_ds)\n",
    "valid_transformed.compute().head()"
   ]
  },
  {
   "cell_type": "code",
   "execution_count": 19,
   "metadata": {},
   "outputs": [
    {
     "data": {
      "text/html": [
       "<div>\n",
       "<style scoped>\n",
       "    .dataframe tbody tr th:only-of-type {\n",
       "        vertical-align: middle;\n",
       "    }\n",
       "\n",
       "    .dataframe tbody tr th {\n",
       "        vertical-align: top;\n",
       "    }\n",
       "\n",
       "    .dataframe thead th {\n",
       "        text-align: right;\n",
       "    }\n",
       "</style>\n",
       "<table border=\"1\" class=\"dataframe\">\n",
       "  <thead>\n",
       "    <tr style=\"text-align: right;\">\n",
       "      <th></th>\n",
       "      <th>name</th>\n",
       "      <th>tags</th>\n",
       "      <th>dtype</th>\n",
       "      <th>is_list</th>\n",
       "      <th>is_ragged</th>\n",
       "      <th>properties.num_buckets</th>\n",
       "      <th>properties.freq_threshold</th>\n",
       "      <th>properties.max_size</th>\n",
       "      <th>properties.start_index</th>\n",
       "      <th>properties.cat_path</th>\n",
       "      <th>properties.domain.min</th>\n",
       "      <th>properties.domain.max</th>\n",
       "      <th>properties.domain.name</th>\n",
       "      <th>properties.embedding_sizes.cardinality</th>\n",
       "      <th>properties.embedding_sizes.dimension</th>\n",
       "    </tr>\n",
       "  </thead>\n",
       "  <tbody>\n",
       "    <tr>\n",
       "      <th>0</th>\n",
       "      <td>userId</td>\n",
       "      <td>(Tags.CATEGORICAL, Tags.USER, Tags.USER_ID, Ta...</td>\n",
       "      <td>int64</td>\n",
       "      <td>False</td>\n",
       "      <td>False</td>\n",
       "      <td>NaN</td>\n",
       "      <td>0.0</td>\n",
       "      <td>0.0</td>\n",
       "      <td>0.0</td>\n",
       "      <td>.//categories/unique.userId.parquet</td>\n",
       "      <td>0.0</td>\n",
       "      <td>6040.0</td>\n",
       "      <td>userId</td>\n",
       "      <td>6041.0</td>\n",
       "      <td>210.0</td>\n",
       "    </tr>\n",
       "    <tr>\n",
       "      <th>1</th>\n",
       "      <td>movieId</td>\n",
       "      <td>(Tags.CATEGORICAL, Tags.ID, Tags.ITEM_ID, Tags...</td>\n",
       "      <td>int64</td>\n",
       "      <td>False</td>\n",
       "      <td>False</td>\n",
       "      <td>NaN</td>\n",
       "      <td>10.0</td>\n",
       "      <td>0.0</td>\n",
       "      <td>0.0</td>\n",
       "      <td>.//categories/unique.movieId.parquet</td>\n",
       "      <td>0.0</td>\n",
       "      <td>3101.0</td>\n",
       "      <td>movieId</td>\n",
       "      <td>3102.0</td>\n",
       "      <td>144.0</td>\n",
       "    </tr>\n",
       "    <tr>\n",
       "      <th>2</th>\n",
       "      <td>genres</td>\n",
       "      <td>(Tags.CATEGORICAL)</td>\n",
       "      <td>int64</td>\n",
       "      <td>True</td>\n",
       "      <td>True</td>\n",
       "      <td>NaN</td>\n",
       "      <td>10.0</td>\n",
       "      <td>0.0</td>\n",
       "      <td>0.0</td>\n",
       "      <td>.//categories/unique.genres.parquet</td>\n",
       "      <td>0.0</td>\n",
       "      <td>18.0</td>\n",
       "      <td>genres</td>\n",
       "      <td>19.0</td>\n",
       "      <td>16.0</td>\n",
       "    </tr>\n",
       "    <tr>\n",
       "      <th>3</th>\n",
       "      <td>binary_rating</td>\n",
       "      <td>(Tags.BINARY_CLASSIFICATION, Tags.TARGET)</td>\n",
       "      <td>bool</td>\n",
       "      <td>False</td>\n",
       "      <td>False</td>\n",
       "      <td>NaN</td>\n",
       "      <td>NaN</td>\n",
       "      <td>NaN</td>\n",
       "      <td>NaN</td>\n",
       "      <td>NaN</td>\n",
       "      <td>NaN</td>\n",
       "      <td>NaN</td>\n",
       "      <td>NaN</td>\n",
       "      <td>NaN</td>\n",
       "      <td>NaN</td>\n",
       "    </tr>\n",
       "  </tbody>\n",
       "</table>\n",
       "</div>"
      ],
      "text/plain": [
       "[{'name': 'userId', 'tags': {<Tags.CATEGORICAL: 'categorical'>, <Tags.USER: 'user'>, <Tags.USER_ID: 'user_id'>, <Tags.ID: 'id'>}, 'properties': {'num_buckets': None, 'freq_threshold': 0, 'max_size': 0, 'start_index': 0, 'cat_path': './/categories/unique.userId.parquet', 'domain': {'min': 0, 'max': 6040, 'name': 'userId'}, 'embedding_sizes': {'cardinality': 6041, 'dimension': 210}}, 'dtype': dtype('int64'), 'is_list': False, 'is_ragged': False}, {'name': 'movieId', 'tags': {<Tags.CATEGORICAL: 'categorical'>, <Tags.ID: 'id'>, <Tags.ITEM_ID: 'item_id'>, <Tags.ITEM: 'item'>}, 'properties': {'num_buckets': None, 'freq_threshold': 10, 'max_size': 0, 'start_index': 0, 'cat_path': './/categories/unique.movieId.parquet', 'domain': {'min': 0, 'max': 3101, 'name': 'movieId'}, 'embedding_sizes': {'cardinality': 3102, 'dimension': 144}}, 'dtype': dtype('int64'), 'is_list': False, 'is_ragged': False}, {'name': 'genres', 'tags': {<Tags.CATEGORICAL: 'categorical'>}, 'properties': {'num_buckets': None, 'freq_threshold': 10, 'max_size': 0, 'start_index': 0, 'cat_path': './/categories/unique.genres.parquet', 'domain': {'min': 0, 'max': 18, 'name': 'genres'}, 'embedding_sizes': {'cardinality': 19, 'dimension': 16}}, 'dtype': dtype('int64'), 'is_list': True, 'is_ragged': True}, {'name': 'binary_rating', 'tags': {<Tags.BINARY_CLASSIFICATION: 'binary_classification'>, <Tags.TARGET: 'target'>}, 'properties': {}, 'dtype': dtype('bool'), 'is_list': False, 'is_ragged': False}]"
      ]
     },
     "execution_count": 19,
     "metadata": {},
     "output_type": "execute_result"
    }
   ],
   "source": [
    "train_transformed.schema"
   ]
  },
  {
   "cell_type": "markdown",
   "metadata": {},
   "source": [
    "### (3) Train Model"
   ]
  },
  {
   "cell_type": "code",
   "execution_count": 20,
   "metadata": {},
   "outputs": [
    {
     "name": "stderr",
     "output_type": "stream",
     "text": [
      "WARNING:tensorflow:Please fix your imports. Module tensorflow.python.training.tracking.data_structures has been moved to tensorflow.python.trackable.data_structures. The old module will be deleted in version 2.11.\n",
      "2022-12-17 22:46:34.372015: I tensorflow/core/common_runtime/pluggable_device/pluggable_device_factory.cc:306] Could not identify NUMA node of platform GPU ID 0, defaulting to 0. Your kernel may not have been built with NUMA support.\n",
      "2022-12-17 22:46:34.372338: I tensorflow/core/common_runtime/pluggable_device/pluggable_device_factory.cc:272] Created TensorFlow device (/job:localhost/replica:0/task:0/device:GPU:0 with 0 MB memory) -> physical PluggableDevice (device: 0, name: METAL, pci bus id: <undefined>)\n"
     ]
    },
    {
     "name": "stdout",
     "output_type": "stream",
     "text": [
      "Metal device set to: Apple M1\n",
      "\n",
      "systemMemory: 16.00 GB\n",
      "maxCacheSize: 5.33 GB\n",
      "\n"
     ]
    }
   ],
   "source": [
    "import tensorflow\n",
    "import merlin.models.tf as mm\n",
    "\n",
    "model = mm.DLRMModel(\n",
    "    train_transformed.schema,\n",
    "    embedding_dim=64,\n",
    "    bottom_block=mm.MLPBlock([128, 64]),\n",
    "    top_block=mm.MLPBlock([128, 64, 32]),\n",
    "    prediction_tasks=mm.BinaryClassificationTask('rating_binary')\n",
    ")"
   ]
  },
  {
   "cell_type": "code",
   "execution_count": 21,
   "metadata": {},
   "outputs": [
    {
     "name": "stderr",
     "output_type": "stream",
     "text": [
      "/Users/nelsonlin/miniforge3/envs/tensorflow/lib/python3.8/site-packages/merlin/schema/tags.py:148: UserWarning: Compound tags like Tags.ITEM_ID have been deprecated and will be removed in a future version. Please use the atomic versions of these tags, like [<Tags.ITEM: 'item'>, <Tags.ID: 'id'>].\n",
      "  warnings.warn(\n",
      "/Users/nelsonlin/miniforge3/envs/tensorflow/lib/python3.8/site-packages/merlin/schema/tags.py:148: UserWarning: Compound tags like Tags.USER_ID have been deprecated and will be removed in a future version. Please use the atomic versions of these tags, like [<Tags.USER: 'user'>, <Tags.ID: 'id'>].\n",
      "  warnings.warn(\n"
     ]
    },
    {
     "name": "stdout",
     "output_type": "stream",
     "text": [
      "Epoch 1/5\n"
     ]
    },
    {
     "name": "stderr",
     "output_type": "stream",
     "text": [
      "2022-12-17 22:46:42.960679: W tensorflow/core/platform/profile_utils/cpu_utils.cc:128] Failed to get CPU frequency: 0 Hz\n",
      "2022-12-17 22:46:44.675770: I tensorflow/core/grappler/optimizers/custom_graph_optimizer_registry.cc:114] Plugin optimizer for device_type GPU is enabled.\n"
     ]
    },
    {
     "name": "stdout",
     "output_type": "stream",
     "text": [
      "586/586 [==============================] - ETA: 0s - loss: 0.5613 - precision: 0.7148 - recall: 0.8222 - binary_accuracy: 0.7087 - auc: 0.7701 - regularization_loss: 0.0000e+00 - loss_batch: 0.5613"
     ]
    },
    {
     "name": "stderr",
     "output_type": "stream",
     "text": [
      "2022-12-17 22:47:02.734113: I tensorflow/core/grappler/optimizers/custom_graph_optimizer_registry.cc:114] Plugin optimizer for device_type GPU is enabled.\n"
     ]
    },
    {
     "name": "stdout",
     "output_type": "stream",
     "text": [
      "586/586 [==============================] - 24s 34ms/step - loss: 0.5613 - precision: 0.7148 - recall: 0.8222 - binary_accuracy: 0.7087 - auc: 0.7701 - regularization_loss: 0.0000e+00 - loss_batch: 0.5612 - val_loss: 0.5386 - val_precision: 0.7373 - val_recall: 0.8171 - val_binary_accuracy: 0.7274 - val_auc: 0.7932 - val_regularization_loss: 0.0000e+00 - val_loss_batch: 0.5327\n",
      "Epoch 2/5\n",
      "586/586 [==============================] - 19s 31ms/step - loss: 0.5175 - precision: 0.7523 - recall: 0.8189 - binary_accuracy: 0.7404 - auc: 0.8124 - regularization_loss: 0.0000e+00 - loss_batch: 0.5175 - val_loss: 0.5343 - val_precision: 0.7466 - val_recall: 0.8039 - val_binary_accuracy: 0.7302 - val_auc: 0.7976 - val_regularization_loss: 0.0000e+00 - val_loss_batch: 0.5287\n",
      "Epoch 3/5\n",
      "586/586 [==============================] - 19s 31ms/step - loss: 0.4762 - precision: 0.7881 - recall: 0.8149 - binary_accuracy: 0.7673 - auc: 0.8463 - regularization_loss: 0.0000e+00 - loss_batch: 0.4762 - val_loss: 0.5531 - val_precision: 0.7479 - val_recall: 0.7914 - val_binary_accuracy: 0.7266 - val_auc: 0.7941 - val_regularization_loss: 0.0000e+00 - val_loss_batch: 0.5400\n",
      "Epoch 4/5\n",
      "586/586 [==============================] - 19s 31ms/step - loss: 0.4084 - precision: 0.8399 - recall: 0.8287 - binary_accuracy: 0.8104 - auc: 0.8908 - regularization_loss: 0.0000e+00 - loss_batch: 0.4083 - val_loss: 0.6081 - val_precision: 0.7477 - val_recall: 0.7516 - val_binary_accuracy: 0.7112 - val_auc: 0.7764 - val_regularization_loss: 0.0000e+00 - val_loss_batch: 0.5973\n",
      "Epoch 5/5\n",
      "586/586 [==============================] - 19s 30ms/step - loss: 0.3220 - precision: 0.8883 - recall: 0.8625 - binary_accuracy: 0.8584 - auc: 0.9336 - regularization_loss: 0.0000e+00 - loss_batch: 0.3219 - val_loss: 0.7039 - val_precision: 0.7382 - val_recall: 0.7399 - val_binary_accuracy: 0.6995 - val_auc: 0.7616 - val_regularization_loss: 0.0000e+00 - val_loss_batch: 0.6783\n"
     ]
    },
    {
     "data": {
      "text/plain": [
       "<keras.callbacks.History at 0x2a9166a90>"
      ]
     },
     "execution_count": 21,
     "metadata": {},
     "output_type": "execute_result"
    }
   ],
   "source": [
    "opt = tensorflow.optimizers.Adam(learning_rate=5e-3)\n",
    "model.compile(optimizer=opt)\n",
    "model.fit(train_transformed, validation_data=valid_transformed, batch_size=1024, epochs=5)"
   ]
  },
  {
   "cell_type": "code",
   "execution_count": 22,
   "metadata": {},
   "outputs": [
    {
     "name": "stdout",
     "output_type": "stream",
     "text": [
      "Epoch 1/3\n",
      "586/586 [==============================] - 20s 32ms/step - loss: 0.1924 - precision: 0.9475 - recall: 0.9216 - binary_accuracy: 0.9255 - auc: 0.9752 - regularization_loss: 0.0000e+00 - loss_batch: 0.1925 - val_loss: 1.0931 - val_precision: 0.7302 - val_recall: 0.7328 - val_binary_accuracy: 0.6906 - val_auc: 0.7424 - val_regularization_loss: 0.0000e+00 - val_loss_batch: 1.0545\n",
      "Epoch 2/3\n",
      "586/586 [==============================] - 19s 31ms/step - loss: 0.1562 - precision: 0.9633 - recall: 0.9382 - binary_accuracy: 0.9438 - auc: 0.9824 - regularization_loss: 0.0000e+00 - loss_batch: 0.1563 - val_loss: 1.1892 - val_precision: 0.7287 - val_recall: 0.7276 - val_binary_accuracy: 0.6875 - val_auc: 0.7347 - val_regularization_loss: 0.0000e+00 - val_loss_batch: 1.1447\n",
      "Epoch 3/3\n",
      "586/586 [==============================] - 19s 31ms/step - loss: 0.1303 - precision: 0.9738 - recall: 0.9506 - binary_accuracy: 0.9568 - auc: 0.9865 - regularization_loss: 0.0000e+00 - loss_batch: 0.1303 - val_loss: 1.3933 - val_precision: 0.7245 - val_recall: 0.7287 - val_binary_accuracy: 0.6846 - val_auc: 0.7232 - val_regularization_loss: 0.0000e+00 - val_loss_batch: 1.3450\n"
     ]
    },
    {
     "data": {
      "text/plain": [
       "<keras.callbacks.History at 0x2d056d730>"
      ]
     },
     "execution_count": 22,
     "metadata": {},
     "output_type": "execute_result"
    }
   ],
   "source": [
    "model.optimizer.learning_rate = 1e-3\n",
    "model.fit(train_transformed, validation_data=valid_transformed, batch_size=1024, epochs=3)"
   ]
  },
  {
   "cell_type": "code",
   "execution_count": 23,
   "metadata": {},
   "outputs": [
    {
     "name": "stderr",
     "output_type": "stream",
     "text": [
      "/Users/nelsonlin/miniforge3/envs/tensorflow/lib/python3.8/site-packages/merlin/schema/tags.py:148: UserWarning: Compound tags like Tags.ITEM_ID have been deprecated and will be removed in a future version. Please use the atomic versions of these tags, like [<Tags.ITEM: 'item'>, <Tags.ID: 'id'>].\n",
      "  warnings.warn(\n",
      "/Users/nelsonlin/miniforge3/envs/tensorflow/lib/python3.8/site-packages/merlin/schema/tags.py:148: UserWarning: Compound tags like Tags.USER_ID have been deprecated and will be removed in a future version. Please use the atomic versions of these tags, like [<Tags.USER: 'user'>, <Tags.ID: 'id'>].\n",
      "  warnings.warn(\n",
      "2022-12-17 22:52:10.030517: I tensorflow/core/grappler/optimizers/custom_graph_optimizer_registry.cc:114] Plugin optimizer for device_type GPU is enabled.\n"
     ]
    }
   ],
   "source": [
    "valid_predictions = model.predict(valid_transformed,batch_size = 32)"
   ]
  },
  {
   "cell_type": "code",
   "execution_count": 37,
   "metadata": {},
   "outputs": [
    {
     "name": "stderr",
     "output_type": "stream",
     "text": [
      "/Users/nelsonlin/miniforge3/envs/tensorflow/lib/python3.8/site-packages/merlin/schema/tags.py:148: UserWarning: Compound tags like Tags.ITEM_ID have been deprecated and will be removed in a future version. Please use the atomic versions of these tags, like [<Tags.ITEM: 'item'>, <Tags.ID: 'id'>].\n",
      "  warnings.warn(\n",
      "/Users/nelsonlin/miniforge3/envs/tensorflow/lib/python3.8/site-packages/merlin/schema/tags.py:148: UserWarning: Compound tags like Tags.USER_ID have been deprecated and will be removed in a future version. Please use the atomic versions of these tags, like [<Tags.USER: 'user'>, <Tags.ID: 'id'>].\n",
      "  warnings.warn(\n"
     ]
    }
   ],
   "source": [
    "valid_transformed_ddf = valid_transformed.to_ddf()\n",
    "valid_transformed_df = valid_transformed_ddf.compute()"
   ]
  },
  {
   "cell_type": "code",
   "execution_count": 38,
   "metadata": {},
   "outputs": [],
   "source": [
    "valid_transformed_df['score']=valid_predictions[:,0]"
   ]
  },
  {
   "cell_type": "code",
   "execution_count": 39,
   "metadata": {},
   "outputs": [
    {
     "data": {
      "text/html": [
       "<div>\n",
       "<style scoped>\n",
       "    .dataframe tbody tr th:only-of-type {\n",
       "        vertical-align: middle;\n",
       "    }\n",
       "\n",
       "    .dataframe tbody tr th {\n",
       "        vertical-align: top;\n",
       "    }\n",
       "\n",
       "    .dataframe thead th {\n",
       "        text-align: right;\n",
       "    }\n",
       "</style>\n",
       "<table border=\"1\" class=\"dataframe\">\n",
       "  <thead>\n",
       "    <tr style=\"text-align: right;\">\n",
       "      <th></th>\n",
       "      <th>userId</th>\n",
       "      <th>movieId</th>\n",
       "      <th>genres</th>\n",
       "      <th>binary_rating</th>\n",
       "      <th>score</th>\n",
       "    </tr>\n",
       "  </thead>\n",
       "  <tbody>\n",
       "    <tr>\n",
       "      <th>0</th>\n",
       "      <td>1331</td>\n",
       "      <td>884</td>\n",
       "      <td>[1]</td>\n",
       "      <td>False</td>\n",
       "      <td>0.999966</td>\n",
       "    </tr>\n",
       "    <tr>\n",
       "      <th>1</th>\n",
       "      <td>3166</td>\n",
       "      <td>10</td>\n",
       "      <td>[3, 5, 4]</td>\n",
       "      <td>False</td>\n",
       "      <td>0.063283</td>\n",
       "    </tr>\n",
       "    <tr>\n",
       "      <th>2</th>\n",
       "      <td>2643</td>\n",
       "      <td>572</td>\n",
       "      <td>[3, 7, 5, 4]</td>\n",
       "      <td>False</td>\n",
       "      <td>0.002184</td>\n",
       "    </tr>\n",
       "    <tr>\n",
       "      <th>3</th>\n",
       "      <td>293</td>\n",
       "      <td>7</td>\n",
       "      <td>[3, 7, 5]</td>\n",
       "      <td>True</td>\n",
       "      <td>0.007049</td>\n",
       "    </tr>\n",
       "    <tr>\n",
       "      <th>4</th>\n",
       "      <td>336</td>\n",
       "      <td>998</td>\n",
       "      <td>[1]</td>\n",
       "      <td>False</td>\n",
       "      <td>0.999935</td>\n",
       "    </tr>\n",
       "  </tbody>\n",
       "</table>\n",
       "</div>"
      ],
      "text/plain": [
       "   userId  movieId        genres  binary_rating     score\n",
       "0    1331      884           [1]          False  0.999966\n",
       "1    3166       10     [3, 5, 4]          False  0.063283\n",
       "2    2643      572  [3, 7, 5, 4]          False  0.002184\n",
       "3     293        7     [3, 7, 5]           True  0.007049\n",
       "4     336      998           [1]          False  0.999935"
      ]
     },
     "execution_count": 39,
     "metadata": {},
     "output_type": "execute_result"
    }
   ],
   "source": [
    "valid_transformed_df.head()"
   ]
  },
  {
   "cell_type": "code",
   "execution_count": 40,
   "metadata": {},
   "outputs": [],
   "source": [
    "from sklearn import metrics"
   ]
  },
  {
   "cell_type": "code",
   "execution_count": 41,
   "metadata": {},
   "outputs": [],
   "source": [
    "fpr, tpr, thresholds = metrics.roc_curve(1*valid_transformed_df['binary_rating'],valid_transformed_df['score'], pos_label=1)"
   ]
  },
  {
   "cell_type": "code",
   "execution_count": 42,
   "metadata": {},
   "outputs": [
    {
     "data": {
      "text/plain": [
       "0.7337473186837996"
      ]
     },
     "execution_count": 42,
     "metadata": {},
     "output_type": "execute_result"
    }
   ],
   "source": [
    "metrics.auc(fpr, tpr)"
   ]
  },
  {
   "cell_type": "code",
   "execution_count": 43,
   "metadata": {},
   "outputs": [],
   "source": [
    "# We can achieve all this by modifying the passed in schema using the without method.\n",
    "model = mm.DLRMModel(\n",
    "    train_transformed.schema.without('genres'),   # <--- this is where we make the change\n",
    "    embedding_dim=64,\n",
    "    bottom_block=mm.MLPBlock([128, 64]),\n",
    "    top_block=mm.MLPBlock([128, 64, 32]),\n",
    "    prediction_tasks=mm.BinaryClassificationTask('rating_binary')\n",
    ")\n"
   ]
  },
  {
   "cell_type": "code",
   "execution_count": 44,
   "metadata": {},
   "outputs": [
    {
     "name": "stderr",
     "output_type": "stream",
     "text": [
      "/Users/nelsonlin/miniforge3/envs/tensorflow/lib/python3.8/site-packages/merlin/schema/tags.py:148: UserWarning: Compound tags like Tags.ITEM_ID have been deprecated and will be removed in a future version. Please use the atomic versions of these tags, like [<Tags.ITEM: 'item'>, <Tags.ID: 'id'>].\n",
      "  warnings.warn(\n",
      "/Users/nelsonlin/miniforge3/envs/tensorflow/lib/python3.8/site-packages/merlin/schema/tags.py:148: UserWarning: Compound tags like Tags.USER_ID have been deprecated and will be removed in a future version. Please use the atomic versions of these tags, like [<Tags.USER: 'user'>, <Tags.ID: 'id'>].\n",
      "  warnings.warn(\n"
     ]
    },
    {
     "name": "stdout",
     "output_type": "stream",
     "text": [
      "Epoch 1/5\n"
     ]
    },
    {
     "name": "stderr",
     "output_type": "stream",
     "text": [
      "2022-12-17 23:04:46.990700: I tensorflow/core/grappler/optimizers/custom_graph_optimizer_registry.cc:114] Plugin optimizer for device_type GPU is enabled.\n"
     ]
    },
    {
     "name": "stdout",
     "output_type": "stream",
     "text": [
      "586/586 [==============================] - ETA: 0s - loss: 0.5994 - precision_1: 0.6664 - recall_1: 0.8408 - binary_accuracy: 0.6660 - auc_1: 0.7181 - regularization_loss: 0.0000e+00 - loss_batch: 0.5994"
     ]
    },
    {
     "name": "stderr",
     "output_type": "stream",
     "text": [
      "2022-12-17 23:05:02.293095: I tensorflow/core/grappler/optimizers/custom_graph_optimizer_registry.cc:114] Plugin optimizer for device_type GPU is enabled.\n"
     ]
    },
    {
     "name": "stdout",
     "output_type": "stream",
     "text": [
      "586/586 [==============================] - 19s 29ms/step - loss: 0.5994 - precision_1: 0.6664 - recall_1: 0.8408 - binary_accuracy: 0.6660 - auc_1: 0.7181 - regularization_loss: 0.0000e+00 - loss_batch: 0.5993 - val_loss: 0.5423 - val_precision_1: 0.7307 - val_recall_1: 0.8200 - val_binary_accuracy: 0.7226 - val_auc_1: 0.7894 - val_regularization_loss: 0.0000e+00 - val_loss_batch: 0.5347\n",
      "Epoch 2/5\n",
      "586/586 [==============================] - 16s 25ms/step - loss: 0.4520 - precision_1: 0.7973 - recall_1: 0.8435 - binary_accuracy: 0.7864 - auc_1: 0.8638 - regularization_loss: 0.0000e+00 - loss_batch: 0.4520 - val_loss: 0.5752 - val_precision_1: 0.7304 - val_recall_1: 0.7821 - val_binary_accuracy: 0.7086 - val_auc_1: 0.7734 - val_regularization_loss: 0.0000e+00 - val_loss_batch: 0.5888\n",
      "Epoch 3/5\n",
      "586/586 [==============================] - 16s 25ms/step - loss: 0.3302 - precision_1: 0.8625 - recall_1: 0.8926 - binary_accuracy: 0.8562 - auc_1: 0.9306 - regularization_loss: 0.0000e+00 - loss_batch: 0.3303 - val_loss: 0.6644 - val_precision_1: 0.7248 - val_recall_1: 0.7538 - val_binary_accuracy: 0.6938 - val_auc_1: 0.7529 - val_regularization_loss: 0.0000e+00 - val_loss_batch: 0.6721\n",
      "Epoch 4/5\n",
      "586/586 [==============================] - 16s 25ms/step - loss: 0.2466 - precision_1: 0.9034 - recall_1: 0.9210 - binary_accuracy: 0.8978 - auc_1: 0.9616 - regularization_loss: 0.0000e+00 - loss_batch: 0.2467 - val_loss: 0.7928 - val_precision_1: 0.7159 - val_recall_1: 0.7503 - val_binary_accuracy: 0.6851 - val_auc_1: 0.7421 - val_regularization_loss: 0.0000e+00 - val_loss_batch: 0.8047\n",
      "Epoch 5/5\n",
      "586/586 [==============================] - 16s 25ms/step - loss: 0.1954 - precision_1: 0.9268 - recall_1: 0.9387 - binary_accuracy: 0.9220 - auc_1: 0.9756 - regularization_loss: 0.0000e+00 - loss_batch: 0.1954 - val_loss: 0.8819 - val_precision_1: 0.7141 - val_recall_1: 0.7381 - val_binary_accuracy: 0.6794 - val_auc_1: 0.7347 - val_regularization_loss: 0.0000e+00 - val_loss_batch: 0.8600\n"
     ]
    },
    {
     "data": {
      "text/plain": [
       "<keras.callbacks.History at 0x334a9bca0>"
      ]
     },
     "execution_count": 44,
     "metadata": {},
     "output_type": "execute_result"
    }
   ],
   "source": [
    "opt = tensorflow.optimizers.Adam(learning_rate=5e-3)\n",
    "model.compile(optimizer=opt)\n",
    "model.fit(train_transformed, validation_data=valid_transformed, batch_size=1024, epochs=5)"
   ]
  },
  {
   "cell_type": "code",
   "execution_count": 45,
   "metadata": {},
   "outputs": [
    {
     "name": "stdout",
     "output_type": "stream",
     "text": [
      "Epoch 1/3\n",
      "586/586 [==============================] - 17s 27ms/step - loss: 0.0979 - precision_1: 0.9665 - recall_1: 0.9746 - binary_accuracy: 0.9659 - auc_1: 0.9928 - regularization_loss: 0.0000e+00 - loss_batch: 0.0981 - val_loss: 1.3621 - val_precision_1: 0.7127 - val_recall_1: 0.7297 - val_binary_accuracy: 0.6754 - val_auc_1: 0.7252 - val_regularization_loss: 0.0000e+00 - val_loss_batch: 1.3459\n",
      "Epoch 2/3\n",
      "586/586 [==============================] - 17s 26ms/step - loss: 0.0692 - precision_1: 0.9786 - recall_1: 0.9856 - binary_accuracy: 0.9793 - auc_1: 0.9953 - regularization_loss: 0.0000e+00 - loss_batch: 0.0694 - val_loss: 1.4998 - val_precision_1: 0.7113 - val_recall_1: 0.7296 - val_binary_accuracy: 0.6742 - val_auc_1: 0.7211 - val_regularization_loss: 0.0000e+00 - val_loss_batch: 1.5056\n",
      "Epoch 3/3\n",
      "586/586 [==============================] - 16s 25ms/step - loss: 0.0528 - precision_1: 0.9858 - recall_1: 0.9907 - binary_accuracy: 0.9864 - auc_1: 0.9963 - regularization_loss: 0.0000e+00 - loss_batch: 0.0529 - val_loss: 1.5940 - val_precision_1: 0.7120 - val_recall_1: 0.7245 - val_binary_accuracy: 0.6730 - val_auc_1: 0.7190 - val_regularization_loss: 0.0000e+00 - val_loss_batch: 1.5912\n"
     ]
    }
   ],
   "source": [
    "model.optimizer.learning_rate = 1e-3\n",
    "metrics = model.fit(train_transformed, validation_data=valid_transformed, batch_size=1024, epochs=3)"
   ]
  },
  {
   "cell_type": "code",
   "execution_count": 46,
   "metadata": {},
   "outputs": [
    {
     "name": "stderr",
     "output_type": "stream",
     "text": [
      "2022-12-17 23:08:20.842213: I tensorflow/core/grappler/optimizers/custom_graph_optimizer_registry.cc:114] Plugin optimizer for device_type GPU is enabled.\n"
     ]
    }
   ],
   "source": [
    "valid_predictions = model.predict(valid_transformed,batch_size = 32)"
   ]
  },
  {
   "cell_type": "code",
   "execution_count": 48,
   "metadata": {},
   "outputs": [],
   "source": [
    "valid_transformed_df['score']=valid_predictions[:,0]"
   ]
  },
  {
   "cell_type": "code",
   "execution_count": 50,
   "metadata": {},
   "outputs": [],
   "source": [
    "from sklearn import metrics\n",
    "fpr, tpr, thresholds = metrics.roc_curve(1*valid_transformed_df['binary_rating'],valid_transformed_df['score'], pos_label=1)"
   ]
  },
  {
   "cell_type": "code",
   "execution_count": 51,
   "metadata": {},
   "outputs": [
    {
     "data": {
      "text/plain": [
       "0.7279156599100589"
      ]
     },
     "execution_count": 51,
     "metadata": {},
     "output_type": "execute_result"
    }
   ],
   "source": [
    "metrics.auc(fpr, tpr)"
   ]
  },
  {
   "cell_type": "code",
   "execution_count": null,
   "metadata": {},
   "outputs": [],
   "source": []
  }
 ],
 "metadata": {
  "kernelspec": {
   "display_name": "Python 3.8.13 ('tensorflow')",
   "language": "python",
   "name": "python3"
  },
  "language_info": {
   "codemirror_mode": {
    "name": "ipython",
    "version": 3
   },
   "file_extension": ".py",
   "mimetype": "text/x-python",
   "name": "python",
   "nbconvert_exporter": "python",
   "pygments_lexer": "ipython3",
   "version": "3.8.13"
  },
  "orig_nbformat": 4,
  "vscode": {
   "interpreter": {
    "hash": "538c071ff3fc63a8d5fd3978ad0b6986a4f6380c636794f6cdcbb34d129e3ae3"
   }
  }
 },
 "nbformat": 4,
 "nbformat_minor": 2
}
